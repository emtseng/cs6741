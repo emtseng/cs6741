{
  "nbformat": 4,
  "nbformat_minor": 0,
  "metadata": {
    "colab": {
      "name": "HW1-et397.ipynb",
      "provenance": [],
      "collapsed_sections": []
    },
    "kernelspec": {
      "name": "python3",
      "display_name": "Python 3"
    },
    "accelerator": "GPU"
  },
  "cells": [
    {
      "cell_type": "markdown",
      "metadata": {
        "id": "_OSMDXPy8M7C",
        "colab_type": "text"
      },
      "source": [
        "# HW 1 Classification"
      ]
    },
    {
      "cell_type": "markdown",
      "metadata": {
        "id": "Zz5Kh9F0xBVf",
        "colab_type": "text"
      },
      "source": [
        "Welcome to CS 6741 HW1. To begin this assignment first turn on the Python 3 and GPU backend for this Colab by clicking `Runtime > Change Runtime Type` above.  "
      ]
    },
    {
      "cell_type": "markdown",
      "metadata": {
        "id": "MiugnUMt8M7E",
        "colab_type": "text"
      },
      "source": [
        "In this homework you will be building several varieties of text classifiers. Text classifiers are not that exciting from an NLP point of view, but they are a great way to get up to speed on the core technologies we will use in this class.\n",
        "\n",
        "\n",
        "\n",
        "## Goal\n",
        "\n",
        "We ask that you construct the following models in PyTorch:\n",
        "\n",
        "1. A naive Bayes unigram classifer (follow Wang and Manning http://www.aclweb.org/anthology/P/P12/P12-2.pdf#page=118: you should only implement Naive Bayes, not the combined classifer with SVM).\n",
        "2. A logistic regression model over word types (you can implement this as $y = \\sigma(\\sum_i W x_i + b)$) \n",
        "3. A continuous bag-of-word neural network with embeddings (similar to CBOW in Mikolov et al https://arxiv.org/pdf/1301.3781.pdf ).\n",
        "4. A simple convolutional neural network (any variant of CNN as described in Kim http://aclweb.org/anthology/D/D14/D14-1181.pdf ).\n",
        "5. Your own extensions to these models...\n",
        "\n",
        "Consult the papers provided for hyperparameters. \n"
      ]
    },
    {
      "cell_type": "markdown",
      "metadata": {
        "id": "iG0DhOyL8M7E",
        "colab_type": "text"
      },
      "source": [
        "## Setup\n",
        "\n",
        "This notebook provides a working definition of the setup of the problem itself. You may construct your models inline or use an external setup (preferred) to build your system."
      ]
    },
    {
      "cell_type": "code",
      "metadata": {
        "id": "eHTkeBl-8M7I",
        "colab_type": "code",
        "colab": {}
      },
      "source": [
        "import torch\n",
        "# Text text processing library and methods for pretrained word embeddings\n",
        "import torchtext\n",
        "from torchtext.vocab import Vectors, GloVe"
      ],
      "execution_count": 0,
      "outputs": []
    },
    {
      "cell_type": "markdown",
      "metadata": {
        "id": "KE37lf0u8M7L",
        "colab_type": "text"
      },
      "source": [
        "The dataset we will use of this problem is known as the Stanford Sentiment Treebank ( https://nlp.stanford.edu/~socherr/EMNLP2013_RNTN.pdf ). It is a variant of a standard sentiment classification task. For simplicity, we will use the most basic form. Classifying a sentence as positive or negative in sentiment. "
      ]
    },
    {
      "cell_type": "markdown",
      "metadata": {
        "id": "JXlrvClg8M7M",
        "colab_type": "text"
      },
      "source": [
        "To start, `torchtext` requires that we define a mapping from the raw text data to featurized indices. These fields make it easy to map back and forth between readable data and math, which helps for debugging."
      ]
    },
    {
      "cell_type": "code",
      "metadata": {
        "id": "YbZiWCz18M7M",
        "colab_type": "code",
        "colab": {}
      },
      "source": [
        "# Our input $x$\n",
        "TEXT = torchtext.data.Field()\n",
        "\n",
        "# Our labels $y$\n",
        "LABEL = torchtext.data.Field(sequential=False, unk_token=None)"
      ],
      "execution_count": 0,
      "outputs": []
    },
    {
      "cell_type": "markdown",
      "metadata": {
        "id": "rYweUw-h8M7Q",
        "colab_type": "text"
      },
      "source": [
        "Next we input our data. Here we will use the standard SST train split, and tell it the fields. Torchtext also gives us the option of using subtrees in the treebank as examples as well. The subtrees can be obtained by passing the option `train_subtrees=True` to splits. Feel free to experiment with using subtrees and report their effect on performance."
      ]
    },
    {
      "cell_type": "code",
      "metadata": {
        "id": "JQcxFoh88M7R",
        "colab_type": "code",
        "colab": {
          "base_uri": "https://localhost:8080/",
          "height": 68
        },
        "outputId": "afcd6e90-88c9-44f2-f17f-7b79b91ca8df"
      },
      "source": [
        "train, val, test = torchtext.datasets.SST.splits(\n",
        "    TEXT, LABEL,\n",
        "    filter_pred=lambda ex: ex.label != 'neutral')"
      ],
      "execution_count": 3,
      "outputs": [
        {
          "output_type": "stream",
          "text": [
            "\rtrainDevTestTrees_PTB.zip:   0%|          | 0.00/790k [00:00<?, ?B/s]"
          ],
          "name": "stderr"
        },
        {
          "output_type": "stream",
          "text": [
            "downloading trainDevTestTrees_PTB.zip\n"
          ],
          "name": "stdout"
        },
        {
          "output_type": "stream",
          "text": [
            "trainDevTestTrees_PTB.zip: 100%|██████████| 790k/790k [00:00<00:00, 3.27MB/s]\n"
          ],
          "name": "stderr"
        },
        {
          "output_type": "stream",
          "text": [
            "extracting\n"
          ],
          "name": "stdout"
        }
      ]
    },
    {
      "cell_type": "markdown",
      "metadata": {
        "id": "vJOFyfYT8M7V",
        "colab_type": "text"
      },
      "source": [
        "Let's look at this data. It's still in its original form, we can see that each example consists of a label and the original words.\n",
        "\n",
        "Be sure to double check that examples with neutral labels were filtered out. \n",
        "\n",
        "The length of the training data should be 6920."
      ]
    },
    {
      "cell_type": "code",
      "metadata": {
        "id": "vDgwcxmh8M7W",
        "colab_type": "code",
        "outputId": "66dec36b-840d-4d80-a16f-6f84d435c763",
        "colab": {
          "base_uri": "https://localhost:8080/",
          "height": 71
        }
      },
      "source": [
        "print('len(train)', len(train))\n",
        "print('vars(train[0])', vars(train[0]))"
      ],
      "execution_count": 4,
      "outputs": [
        {
          "output_type": "stream",
          "text": [
            "len(train) 6920\n",
            "vars(train[0]) {'text': ['The', 'Rock', 'is', 'destined', 'to', 'be', 'the', '21st', 'Century', \"'s\", 'new', '``', 'Conan', \"''\", 'and', 'that', 'he', \"'s\", 'going', 'to', 'make', 'a', 'splash', 'even', 'greater', 'than', 'Arnold', 'Schwarzenegger', ',', 'Jean-Claud', 'Van', 'Damme', 'or', 'Steven', 'Segal', '.'], 'label': 'positive'}\n"
          ],
          "name": "stdout"
        }
      ]
    },
    {
      "cell_type": "markdown",
      "metadata": {
        "id": "_Tcw37Xr8M7b",
        "colab_type": "text"
      },
      "source": [
        "In order to map this data to features, we need to assign an index to each word an label. The function build vocab allows us to do this and provides useful options that we will need in future assignments."
      ]
    },
    {
      "cell_type": "code",
      "metadata": {
        "id": "otfqiXh98M7b",
        "colab_type": "code",
        "outputId": "80a7c701-10e1-444f-f1ae-180acb1fa723",
        "colab": {
          "base_uri": "https://localhost:8080/",
          "height": 51
        }
      },
      "source": [
        "TEXT.build_vocab(train)\n",
        "LABEL.build_vocab(train)\n",
        "print('len(TEXT.vocab)', len(TEXT.vocab))\n",
        "print('len(LABEL.vocab)', len(LABEL.vocab))"
      ],
      "execution_count": 5,
      "outputs": [
        {
          "output_type": "stream",
          "text": [
            "len(TEXT.vocab) 16284\n",
            "len(LABEL.vocab) 2\n"
          ],
          "name": "stdout"
        }
      ]
    },
    {
      "cell_type": "markdown",
      "metadata": {
        "id": "_dBj-iHi8M7f",
        "colab_type": "text"
      },
      "source": [
        "Finally we are ready to create batches of our training data that can be used for training and validating the model. This function produces 3 iterators that will let us go through the train, val and test data. "
      ]
    },
    {
      "cell_type": "code",
      "metadata": {
        "id": "FV-CSDuX8M7g",
        "colab_type": "code",
        "colab": {}
      },
      "source": [
        "train_iter, val_iter, test_iter = torchtext.data.BucketIterator.splits(\n",
        "    (train, val, test), batch_size=10, device=torch.device(\"cuda\"))"
      ],
      "execution_count": 0,
      "outputs": []
    },
    {
      "cell_type": "markdown",
      "metadata": {
        "id": "XpXAKSbA8M7i",
        "colab_type": "text"
      },
      "source": [
        "Let's look at a single batch from one of these iterators. The library automatically converts the underlying words into indices. It then produces tensors for batches of x and y. In this case it will consist of the number of words of the longest sentence (with padding) followed by the number of batches. We can use the vocabulary dictionary to convert back from these indices to words."
      ]
    },
    {
      "cell_type": "code",
      "metadata": {
        "id": "dcsZVvaG8M7j",
        "colab_type": "code",
        "outputId": "d27f5c9b-e4c8-4fdf-d3de-3090d20a5802",
        "colab": {
          "base_uri": "https://localhost:8080/",
          "height": 139
        }
      },
      "source": [
        "batch = next(iter(train_iter))\n",
        "print(\"Size of text batch:\", batch.text.shape)\n",
        "# example = batch.text.get(\"batch\", 1)\n",
        "example = batch.text[:,1]\n",
        "print(\"Second in batch\", example)\n",
        "print(\"Converted back to string:\", \" \".join([TEXT.vocab.itos[i] for i in example.tolist()]))"
      ],
      "execution_count": 7,
      "outputs": [
        {
          "output_type": "stream",
          "text": [
            "Size of text batch: torch.Size([37, 10])\n",
            "Second in batch tensor([  76, 2267,    5,  167, 2261,  135,   39, 4280,  129,    5,  128, 2673,\n",
            "          68,  662,  484, 1446,   49, 3302,    2,    1,    1,    1,    1,    1,\n",
            "           1,    1,    1,    1,    1,    1,    1,    1,    1,    1,    1,    1,\n",
            "           1], device='cuda:0')\n",
            "Converted back to string: An ingenious and often harrowing look at damaged people and how families can offer either despair or consolation . <pad> <pad> <pad> <pad> <pad> <pad> <pad> <pad> <pad> <pad> <pad> <pad> <pad> <pad> <pad> <pad> <pad> <pad>\n"
          ],
          "name": "stdout"
        }
      ]
    },
    {
      "cell_type": "markdown",
      "metadata": {
        "id": "LJxDYWUp8M7m",
        "colab_type": "text"
      },
      "source": [
        "Similarly it produces a vector for each of the labels in the batch. "
      ]
    },
    {
      "cell_type": "code",
      "metadata": {
        "id": "k_DcwMRh8M7m",
        "colab_type": "code",
        "outputId": "f3ddb802-c496-4583-d150-856a8f184e22",
        "colab": {
          "base_uri": "https://localhost:8080/",
          "height": 68
        }
      },
      "source": [
        "print(\"Size of label batch:\", batch.label.shape)\n",
        "# example = batch.label.get(\"batch\", 1)\n",
        "example = batch.label[1]\n",
        "print(\"Second in batch\", example.item())\n",
        "print(\"Converted back to string:\", LABEL.vocab.itos[example.item()])"
      ],
      "execution_count": 8,
      "outputs": [
        {
          "output_type": "stream",
          "text": [
            "Size of label batch: torch.Size([10])\n",
            "Second in batch 0\n",
            "Converted back to string: positive\n"
          ],
          "name": "stdout"
        }
      ]
    },
    {
      "cell_type": "markdown",
      "metadata": {
        "id": "RgbiW5PP8M7r",
        "colab_type": "text"
      },
      "source": [
        "Finally the Vocab object can be used to map pretrained word vectors to the indices in the vocabulary. This will be very useful for part 3 and 4 of the problem.  Feel free to experiment with different word vectors and report their effect on performance."
      ]
    },
    {
      "cell_type": "code",
      "metadata": {
        "id": "4ZVfhI6x8M7s",
        "colab_type": "code",
        "outputId": "b5e00c6d-782e-4e56-ec86-f5956f5167a9",
        "colab": {
          "base_uri": "https://localhost:8080/",
          "height": 102
        }
      },
      "source": [
        "# Build the vocabulary with word embeddings\n",
        "url = 'https://dl.fbaipublicfiles.com/fasttext/vectors-wiki/wiki.simple.vec'\n",
        "TEXT.vocab.load_vectors(vectors=Vectors('wiki.simple.vec', url=url))\n",
        "\n",
        "print(\"Word embeddings size \", TEXT.vocab.vectors.size())\n",
        "print(\"Word embedding of 'follows', first 10 dim \", TEXT.vocab.vectors[TEXT.vocab.stoi['follows']][:10])"
      ],
      "execution_count": 9,
      "outputs": [
        {
          "output_type": "stream",
          "text": [
            ".vector_cache/wiki.simple.vec: 293MB [00:04, 62.4MB/s]                           \n",
            "  0%|          | 0/111051 [00:00<?, ?it/s]Skipping token b'111051' with 1-dimensional vector [b'300']; likely a header\n",
            "100%|█████████▉| 110528/111051 [00:10<00:00, 10983.21it/s]"
          ],
          "name": "stderr"
        },
        {
          "output_type": "stream",
          "text": [
            "Word embeddings size  torch.Size([16284, 300])\n",
            "Word embedding of 'follows', first 10 dim  tensor([ 0.3925, -0.4770,  0.1754, -0.0845,  0.1396,  0.3722, -0.0878, -0.2398,\n",
            "         0.0367,  0.2800])\n"
          ],
          "name": "stdout"
        }
      ]
    },
    {
      "cell_type": "markdown",
      "metadata": {
        "id": "o4s05JN38M71",
        "colab_type": "text"
      },
      "source": [
        "## Assignment\n",
        "\n",
        "Now it is your turn to build the models described at the top of the assignment. \n",
        "\n",
        "Using the data given by this iterator, you should construct 4 different torch models that take in batch.text and produce a distribution over labels. \n"
      ]
    },
    {
      "cell_type": "code",
      "metadata": {
        "id": "Kw_PRRx18M72",
        "colab_type": "code",
        "colab": {}
      },
      "source": [
        "def test_code(model):\n",
        "    \"All models should be able to be run with following command.\"\n",
        "    upload = []\n",
        "    # Update: for kaggle the bucket iterator needs to have batch_size 10\n",
        "    test_iter = torchtext.data.BucketIterator(test, train=False, batch_size=10)\n",
        "    for batch in test_iter:\n",
        "        # Your prediction data here (don't cheat!)\n",
        "        probs = model(batch.text)\n",
        "        # here we assume that the name for dimension classes is `classes`\n",
        "        _, argmax = probs.max('classes')\n",
        "        upload += argmax.tolist()\n",
        "\n",
        "    with open(\"predictions.txt\", \"w\") as f:\n",
        "        f.write(\"Id,Category\\n\")\n",
        "        for i, u in enumerate(upload):\n",
        "            f.write(str(i) + \",\" + str(u) + \"\\n\")\n"
      ],
      "execution_count": 0,
      "outputs": []
    },
    {
      "cell_type": "markdown",
      "metadata": {
        "id": "Pw-LOY_t6TW3",
        "colab_type": "text"
      },
      "source": [
        "#1. Naive Bayes unigram classifer \n",
        "Follows [Wang and Manning](https://www.aclweb.org/anthology/P12-2018.pdf)."
      ]
    },
    {
      "cell_type": "code",
      "metadata": {
        "id": "GCz_64ia6SYw",
        "colab_type": "code",
        "colab": {}
      },
      "source": [
        "\"\"\"\n",
        "NaiveBayes\n",
        "Author: Emily Tseng (et397)\n",
        "\n",
        "--\n",
        "\n",
        "\"\"\"\n",
        "\n",
        "from tqdm import tqdm\n",
        "import torch\n",
        "import numpy as np\n",
        "\n",
        "\n",
        "class NaiveBayes:\n",
        "    def __init__(self, alpha, TEXT, LABEL):\n",
        "        \"\"\"\n",
        "            Initializes with a given smoothing parameter\n",
        "        \"\"\"\n",
        "        self.alpha = alpha\n",
        "        self.vocab = TEXT.vocab\n",
        "        self.labels = LABEL.vocab\n",
        "        # Store which label is which\n",
        "        self.label_map = {\n",
        "            self.labels.itos[0]: 0,\n",
        "            self.labels.itos[1]: 1\n",
        "        }\n",
        "        # Initialize with zero seen pos or neg samples\n",
        "        self.p = self.alpha + np.zeros((len(self.vocab),))\n",
        "        self.q = self.alpha + np.zeros((len(self.vocab),))\n",
        "        # Initialize counts at 1 here also to prevent div by 0 error\n",
        "        self.nplus = 1\n",
        "        self.nminus = 1\n",
        "        self.update()\n",
        "    \n",
        "    def update(self):\n",
        "        self.r = np.log((self.p/np.linalg.norm(self.p, ord=1)) / (self.q/np.linalg.norm(self.q, ord=1)))\n",
        "        self.b = np.log(self.nplus / self.nminus)\n",
        "\n",
        "    def featurize(self, x):\n",
        "        \"\"\"\n",
        "            Input: <vec> x\n",
        "            Output: <vec> fx, featurized using the vocabulary\n",
        "        \"\"\"\n",
        "        output = np.zeros((len(self.vocab),))\n",
        "        for word_idx in x:\n",
        "            output[word_idx] = 1\n",
        "        return output\n",
        "\n",
        "    def train(self, train_iter, val_iter):\n",
        "        \"\"\"\n",
        "            \"Trains\" the model based on the provided train and val sets.\n",
        "        \"\"\"\n",
        "        for batch_idx, train_batch in enumerate(train_iter):\n",
        "            # Update the count vectors...\n",
        "            for i in range(len(train_batch)):\n",
        "                x = train_batch.text[:, i]\n",
        "                fx = self.featurize(x)\n",
        "                y = train_batch.label[i]\n",
        "                if self.labels.itos[y.item()] == 'positive':\n",
        "                  self.p += fx\n",
        "                  self.nplus += 1\n",
        "                else:\n",
        "                  self.q += fx\n",
        "                  self.nminus += 1\n",
        "            # And recalculate r & b\n",
        "            self.update()\n",
        "            # Let's hope to see improvement at every 10 batches\n",
        "            if batch_idx % 50 == 0:\n",
        "              batch_acc = self.evaluate(val_iter)\n",
        "              print('val acc after training batch {}: {}'.format(batch_idx, batch_acc))\n",
        "              # print('\\tself.p: {}\\n\\tself.q: {}\\n\\tself.r: {}\\n\\tself.b: {}'.format(self.p, self.q, self.r, self.b))\n",
        "\n",
        "\n",
        "    def evaluate(self, val_iter):\n",
        "        \"\"\"\n",
        "            Evaluates against a batch of given data.\n",
        "        \"\"\"\n",
        "        correct = 0\n",
        "        total = 0\n",
        "\n",
        "        for batch_idx, val_batch in enumerate(val_iter):\n",
        "            for i in range(len(val_batch)):\n",
        "                x = val_batch.text[:, i]\n",
        "                y = val_batch.label[i]\n",
        "                fx = self.featurize(x)\n",
        "                yhat = self.predict(fx)\n",
        "                if y == yhat:\n",
        "                    correct += 1\n",
        "                total += 1\n",
        "        \n",
        "        return float(correct / total)\n",
        "\n",
        "    def predict(self, x):\n",
        "        val = np.matmul(self.r.T, x) + self.b\n",
        "        if val >= 0:\n",
        "            return self.label_map['positive']\n",
        "        else:\n",
        "            return self.label_map['negative']"
      ],
      "execution_count": 0,
      "outputs": []
    },
    {
      "cell_type": "code",
      "metadata": {
        "id": "1yVvcNRH2M8J",
        "colab_type": "code",
        "outputId": "d40f6c94-1de3-42b3-f547-79b29830bcc0",
        "colab": {
          "base_uri": "https://localhost:8080/",
          "height": 357
        }
      },
      "source": [
        "alpha = 1\n",
        "model = NaiveBayes(alpha, TEXT, LABEL)\n",
        "model.train(train_iter, val_iter)\n",
        "# Evaluate on training set first\n",
        "train_acc = model.evaluate(train_iter)\n",
        "print('NaiveBayes train_acc: ', train_acc)"
      ],
      "execution_count": 12,
      "outputs": [
        {
          "output_type": "stream",
          "text": [
            "Initialized NaiveBayes model with vocab size 16284, label size 2\n",
            "\tself.p: [1. 1. 1. ... 1. 1. 1.]\n",
            "\tself.q: [1. 1. 1. ... 1. 1. 1.]\n",
            "\tself.r: [0. 0. 0. ... 0. 0. 0.]\n",
            "\tself.b: 0.0\n",
            "val acc after training batch 0: 0.5114678899082569\n",
            "val acc after training batch 50: 0.5825688073394495\n",
            "val acc after training batch 100: 0.6754587155963303\n",
            "val acc after training batch 150: 0.7224770642201835\n",
            "val acc after training batch 200: 0.7431192660550459\n",
            "val acc after training batch 250: 0.7603211009174312\n",
            "val acc after training batch 300: 0.7763761467889908\n",
            "val acc after training batch 350: 0.768348623853211\n",
            "val acc after training batch 400: 0.7786697247706422\n",
            "val acc after training batch 450: 0.7844036697247706\n",
            "val acc after training batch 500: 0.7878440366972477\n",
            "val acc after training batch 550: 0.786697247706422\n",
            "val acc after training batch 600: 0.7924311926605505\n",
            "val acc after training batch 650: 0.7970183486238532\n",
            "NaiveBayes train_acc:  0.9486994219653179\n"
          ],
          "name": "stdout"
        }
      ]
    },
    {
      "cell_type": "code",
      "metadata": {
        "id": "x_EV6c1lwd4L",
        "colab_type": "code",
        "outputId": "ee33660a-7a11-42d2-d314-eaf45c7369f7",
        "colab": {
          "base_uri": "https://localhost:8080/",
          "height": 34
        }
      },
      "source": [
        "# Then run the test set\n",
        "test_acc = model.evaluate(test_iter)\n",
        "print('NaiveBayes test_acc: ', test_acc)"
      ],
      "execution_count": 13,
      "outputs": [
        {
          "output_type": "stream",
          "text": [
            "NaiveBayes test_acc:  0.8215266337177375\n"
          ],
          "name": "stdout"
        }
      ]
    },
    {
      "cell_type": "markdown",
      "metadata": {
        "id": "RIMooTXKwkgX",
        "colab_type": "text"
      },
      "source": [
        "# 2) Logistic Regression\n",
        "\n",
        "A logistic regression model over word types (you can implement this as $y = \\sigma(\\sum_i W x_i + b)$) \n"
      ]
    },
    {
      "cell_type": "code",
      "metadata": {
        "id": "_kLXCG6pwscd",
        "colab_type": "code",
        "colab": {}
      },
      "source": [
        "\"\"\"\n",
        "LogisticRegression\n",
        "Author: Emily Tseng et397\n",
        "\n",
        "--\n",
        "\n",
        "\"\"\"\n",
        "\n",
        "import torch\n",
        "import torch.nn as nn\n",
        "from torch.autograd import Variable\n",
        "\n",
        "from tqdm import tqdm\n",
        "\n",
        "class LogisticRegression(nn.Module):\n",
        "  def __init__(self, input_size, output_size, batch_size):\n",
        "    super(LogisticRegression, self).__init__()\n",
        "    self.batch_size = batch_size\n",
        "    self.vocab_size = input_size\n",
        "    self.linear = torch.nn.Linear(input_size, output_size, bias=True)\n",
        "  \n",
        "  def forward(self, x):\n",
        "    x.to(device)\n",
        "    output = self.linear(x)\n",
        "    output = torch.sigmoid(output)\n",
        "    return output\n",
        "  \n",
        "  def featurize(self, x):\n",
        "    \"\"\"\n",
        "      Input: <vec> x\n",
        "      Output: <vec> fx, featurized using the vocabulary\n",
        "    \"\"\"\n",
        "    output = np.zeros((self.vocab_size,))\n",
        "    for word_idx in x:\n",
        "        output[word_idx] = 1\n",
        "    return output\n",
        "  \n",
        "  def featurize_batch(self, batch, train=True):\n",
        "    \"\"\"\n",
        "      Takes in a batch from the training data and featurizes it as binarized counts.\n",
        "    \"\"\"\n",
        "    output = np.zeros((self.batch_size, self.vocab_size)) #e.g. 10 x 6000\n",
        "    for i in range(len(batch)):\n",
        "      x = batch.text[:,i]\n",
        "      fx = self.featurize(x)\n",
        "      output[i] = fx\n",
        "    if train:\n",
        "      return Variable(torch.FloatTensor(output)).cuda(), batch.label\n",
        "    else:\n",
        "      return Variable(torch.FloatTensor(output)).cuda()\n",
        "  \n",
        "  def train_model(self, train_iter, val_iter, epochs, lr):\n",
        "    \"\"\" Trains the model over the given parameters. Returns vector of epoch losses for plotting.\n",
        "    \"\"\"\n",
        "    self.train()\n",
        "    # Use SGD and CrossEnt\n",
        "    crossent = torch.nn.CrossEntropyLoss()\n",
        "    optimizer = torch.optim.SGD(self.parameters(), lr=lr)\n",
        "    losses = []\n",
        "    for epoch in range(epochs):\n",
        "      epoch_loss = 0.\n",
        "      for batch_idx, batch in enumerate(train_iter):\n",
        "        optimizer.zero_grad()\n",
        "        batch_fx, batch_y = self.featurize_batch(batch, True)\n",
        "        output = self.forward(batch_fx)\n",
        "        loss = crossent(output, batch_y)\n",
        "        loss.backward()\n",
        "        optimizer.step()\n",
        "        epoch_loss += loss.item()\n",
        "      epoch_loss /= len(train_iter)\n",
        "      losses.append(epoch_loss)\n",
        "      val_acc = self.evaluate(val_iter)\n",
        "      print('val acc after training epoch {}: {}'.format(epoch, val_acc))\n",
        "      print('epoch loss: {}'.format(epoch_loss))\n",
        "    return losses\n",
        "  \n",
        "  def evaluate(self, val_iter):\n",
        "    \"\"\" Evaluates against a batch of given data.\n",
        "    \"\"\"\n",
        "    self.eval()\n",
        "    with torch.no_grad():\n",
        "      correct = 0\n",
        "      total = 0\n",
        "\n",
        "      for batch_idx, batch in enumerate(val_iter):\n",
        "        for i in range(len(batch)):\n",
        "          x = batch.text[:, i]\n",
        "          y = batch.label[i]\n",
        "          fx = Variable(torch.FloatTensor(self.featurize(x))).cuda()\n",
        "          output = self.forward(fx)\n",
        "          yhat = output.max(0)[1]\n",
        "          if y == yhat:\n",
        "            correct += 1\n",
        "          total += 1\n",
        "      return float(correct / total)\n"
      ],
      "execution_count": 0,
      "outputs": []
    },
    {
      "cell_type": "code",
      "metadata": {
        "id": "sGLkaQTO86w2",
        "colab_type": "code",
        "outputId": "01e19385-2363-4d26-dcc1-dbf1dc321a41",
        "colab": {
          "base_uri": "https://localhost:8080/",
          "height": 714
        }
      },
      "source": [
        "lr = 5e-2\n",
        "epochs = 20\n",
        "batch_size = 10\n",
        "\n",
        "device = torch.device(\"cuda:0\" if torch.cuda.is_available() else \"cpu\")\n",
        "\n",
        "logreg = LogisticRegression(len(TEXT.vocab), len(LABEL.vocab), batch_size)\n",
        "logreg.to(device)\n",
        "\n",
        "logreg_losses = logreg.train_model(train_iter, val_iter, epochs, lr)\n",
        "test_acc = logreg.evaluate(test_iter)\n",
        "print('final test_acc for LogReg: {}'.format(test_acc))"
      ],
      "execution_count": 29,
      "outputs": [
        {
          "output_type": "stream",
          "text": [
            "val acc after training epoch 0: 0.5458715596330275\n",
            "epoch loss: 0.685959963440206\n",
            "val acc after training epoch 1: 0.6422018348623854\n",
            "epoch loss: 0.6742552167418375\n",
            "val acc after training epoch 2: 0.6536697247706422\n",
            "epoch loss: 0.6646205173062452\n",
            "val acc after training epoch 3: 0.6605504587155964\n",
            "epoch loss: 0.6573416831865476\n",
            "val acc after training epoch 4: 0.6880733944954128\n",
            "epoch loss: 0.6509218731884322\n",
            "val acc after training epoch 5: 0.6880733944954128\n",
            "epoch loss: 0.645462427525162\n",
            "val acc after training epoch 6: 0.6754587155963303\n",
            "epoch loss: 0.6405531319579637\n",
            "val acc after training epoch 7: 0.6880733944954128\n",
            "epoch loss: 0.6361205812134495\n",
            "val acc after training epoch 8: 0.7018348623853211\n",
            "epoch loss: 0.6319561226002742\n",
            "val acc after training epoch 9: 0.6972477064220184\n",
            "epoch loss: 0.6279672666781211\n",
            "val acc after training epoch 10: 0.7110091743119266\n",
            "epoch loss: 0.6244509506949111\n",
            "val acc after training epoch 11: 0.7144495412844036\n",
            "epoch loss: 0.6210844695051282\n",
            "val acc after training epoch 12: 0.7110091743119266\n",
            "epoch loss: 0.6177411827910153\n",
            "val acc after training epoch 13: 0.7121559633027523\n",
            "epoch loss: 0.6150268780099863\n",
            "val acc after training epoch 14: 0.7087155963302753\n",
            "epoch loss: 0.6120219971403221\n",
            "val acc after training epoch 15: 0.7121559633027523\n",
            "epoch loss: 0.6091695678974852\n",
            "val acc after training epoch 16: 0.716743119266055\n",
            "epoch loss: 0.6066468924370115\n",
            "val acc after training epoch 17: 0.7178899082568807\n",
            "epoch loss: 0.6040235899517991\n",
            "val acc after training epoch 18: 0.713302752293578\n",
            "epoch loss: 0.6016318555598315\n",
            "val acc after training epoch 19: 0.7224770642201835\n",
            "epoch loss: 0.5992194669095078\n",
            "final test_acc for LogReg: 0.7056562328390994\n"
          ],
          "name": "stdout"
        }
      ]
    },
    {
      "cell_type": "markdown",
      "metadata": {
        "id": "5nvpZ9lfpCQH",
        "colab_type": "text"
      },
      "source": [
        "# 3) CBOW\n",
        "\n",
        "A continuous bag-of-word neural network with embeddings (similar to CBOW in Mikolov et al https://arxiv.org/pdf/1301.3781.pdf )."
      ]
    },
    {
      "cell_type": "code",
      "metadata": {
        "id": "99rX1-zlpcXn",
        "colab_type": "code",
        "colab": {}
      },
      "source": [
        "\"\"\"\n",
        "CBOW NN\n",
        "Author: Emily Tseng et397\n",
        "\n",
        "--\n",
        "\n",
        "\n",
        "\n",
        "\"\"\"\n",
        "\n",
        "import torch\n",
        "import torch.nn as nn\n",
        "from torch.autograd import Variable\n",
        "\n",
        "from tqdm import tqdm\n",
        "\n",
        "class CBOW(nn.Module):\n",
        "  def __init__(self, embeddings, output_size, batch_size, pad_idx):\n",
        "    super(CBOW, self).__init__()\n",
        "    self.embeddings = nn.Embedding(embeddings.size(0), embeddings.size(1), padding_idx=pad_idx)\n",
        "    self.linear = torch.nn.Linear(embeddings.size(1), output_size, bias=True)\n",
        "  \n",
        "  def forward(self, x):\n",
        "    x.to(device)\n",
        "    embedded_x = self.embeddings(x)\n",
        "    # CBOW uses a vector of averaged word embeddings\n",
        "    avg_embed = embedded_x.mean(0)\n",
        "    output = self.linear(avg_embed)\n",
        "    return nn.functional.log_softmax(output, dim=1)\n",
        "  \n",
        "  def predict(self, x):\n",
        "    logits = self.forward(x)\n",
        "    return logits.max(1)[1]\n",
        "  \n",
        "  def train_model(self, train_iter, val_iter, epochs, lr):\n",
        "    \"\"\" Trains the model over the given parameters. Returns vector of epoch losses for plotting.\n",
        "    \"\"\"\n",
        "    self.train()\n",
        "    # Use SGD and CrossEnt\n",
        "    crossent = torch.nn.CrossEntropyLoss()\n",
        "    optimizer = torch.optim.SGD(self.parameters(), lr=lr)\n",
        "    losses = []\n",
        "    for epoch in range(epochs):\n",
        "      epoch_loss = 0.\n",
        "      for batch_idx, batch in enumerate(train_iter):\n",
        "        optimizer.zero_grad()\n",
        "        yhat = self.forward(batch.text)\n",
        "        loss = crossent(yhat, batch.label)\n",
        "        loss.backward()\n",
        "        optimizer.step()\n",
        "        epoch_loss += loss.item()\n",
        "      epoch_loss /= len(train_iter)\n",
        "      losses.append(epoch_loss)\n",
        "      print('epoch loss: {}'.format(epoch_loss))\n",
        "      val_acc = self.evaluate(val_iter)\n",
        "      print('val acc after training epoch {}: {}'.format(epoch, val_acc))\n",
        "    return losses\n",
        "  \n",
        "  def evaluate(self, val_iter):\n",
        "    \"\"\" Evaluates against a batch of given data.\n",
        "    \"\"\"\n",
        "    with torch.no_grad():\n",
        "      self.eval()\n",
        "      correct = 0\n",
        "      total = 0\n",
        "\n",
        "      for batch_idx, batch in enumerate(val_iter):\n",
        "        yhats = self.predict(batch.text)\n",
        "        for i, yhat in enumerate(yhats):\n",
        "          if batch.label[i] == yhat:\n",
        "            correct += 1\n",
        "          total += 1\n",
        "      return float(correct / total)\n"
      ],
      "execution_count": 0,
      "outputs": []
    },
    {
      "cell_type": "code",
      "metadata": {
        "id": "_0cupwauqyvd",
        "colab_type": "code",
        "outputId": "6a13c7ad-fe84-463a-a617-bfc84d8cfbef",
        "colab": {
          "base_uri": "https://localhost:8080/",
          "height": 731
        }
      },
      "source": [
        "lr = 5e-2\n",
        "epochs = 20\n",
        "batch_size = 10\n",
        "\n",
        "device = torch.device(\"cuda:0\" if torch.cuda.is_available() else \"cpu\")\n",
        "\n",
        "pad_idx=TEXT.vocab.stoi[TEXT.pad_token]\n",
        "\n",
        "cbow = CBOW(TEXT.vocab.vectors, len(LABEL.vocab), batch_size, pad_idx)\n",
        "cbow.to(device)\n",
        "\n",
        "cbow_losses = cbow.train_model(train_iter, val_iter, epochs, lr)\n",
        "test_acc = cbow.evaluate(test_iter)\n",
        "print('\\nfinal test_acc for CBOW: {}'.format(test_acc))"
      ],
      "execution_count": 33,
      "outputs": [
        {
          "output_type": "stream",
          "text": [
            "epoch loss: 0.6739854291512098\n",
            "val acc after training epoch 0: 0.6387614678899083\n",
            "epoch loss: 0.6492111387452638\n",
            "val acc after training epoch 1: 0.6422018348623854\n",
            "epoch loss: 0.6345409881431243\n",
            "val acc after training epoch 2: 0.6571100917431193\n",
            "epoch loss: 0.6255833912274741\n",
            "val acc after training epoch 3: 0.6479357798165137\n",
            "epoch loss: 0.619871094521415\n",
            "val acc after training epoch 4: 0.6307339449541285\n",
            "epoch loss: 0.6148916824015579\n",
            "val acc after training epoch 5: 0.6387614678899083\n",
            "epoch loss: 0.6103021444354443\n",
            "val acc after training epoch 6: 0.6467889908256881\n",
            "epoch loss: 0.6080563691999182\n",
            "val acc after training epoch 7: 0.6387614678899083\n",
            "epoch loss: 0.6038626094343346\n",
            "val acc after training epoch 8: 0.6456422018348624\n",
            "epoch loss: 0.6011746638599847\n",
            "val acc after training epoch 9: 0.6536697247706422\n",
            "epoch loss: 0.5984734961321588\n",
            "val acc after training epoch 10: 0.6456422018348624\n",
            "epoch loss: 0.5953932171525983\n",
            "val acc after training epoch 11: 0.6548165137614679\n",
            "epoch loss: 0.5931417824905043\n",
            "val acc after training epoch 12: 0.6444954128440367\n",
            "epoch loss: 0.5910087475025585\n",
            "val acc after training epoch 13: 0.6536697247706422\n",
            "epoch loss: 0.5887442784803796\n",
            "val acc after training epoch 14: 0.6467889908256881\n",
            "epoch loss: 0.5856433681325416\n",
            "val acc after training epoch 15: 0.6536697247706422\n",
            "epoch loss: 0.5860146665676481\n",
            "val acc after training epoch 16: 0.6525229357798165\n",
            "epoch loss: 0.5818840720060933\n",
            "val acc after training epoch 17: 0.6479357798165137\n",
            "epoch loss: 0.5787457645025557\n",
            "val acc after training epoch 18: 0.643348623853211\n",
            "epoch loss: 0.5779623792350637\n",
            "val acc after training epoch 19: 0.6548165137614679\n",
            "\n",
            "final test_acc for CBOW: 0.6617243272926964\n"
          ],
          "name": "stdout"
        }
      ]
    },
    {
      "cell_type": "markdown",
      "metadata": {
        "id": "-_x5HzJXv4PZ",
        "colab_type": "text"
      },
      "source": [
        "# 4) CNN\n",
        "\n",
        "A simple convolutional neural network (any variant of CNN as described in Kim http://aclweb.org/anthology/D/D14/D14-1181.pdf )."
      ]
    },
    {
      "cell_type": "code",
      "metadata": {
        "id": "v8jY5vC1dQLq",
        "colab_type": "code",
        "colab": {}
      },
      "source": [
        "import numpy as np\n",
        "\n",
        "def sanitize_batch(batch, min_length):\n",
        "  \"\"\"\n",
        "    If a batch contains sentences less than a defined minimum length, pad it.\n",
        "  \"\"\"\n",
        "  if batch.text.size(0) < min_length:\n",
        "    nparr = batch.text.data.cpu().numpy()\n",
        "    nparr = nparr.T\n",
        "    output = np.zeros((nparr.shape[0], min_length))\n",
        "    for i, sentence in enumerate(nparr):\n",
        "      output[i] = np.concatenate((sentence, [pad_idx] * (min_length - nparr.shape[1])))\n",
        "    return torch.LongTensor(output.T).to(device)\n",
        "  else:\n",
        "    return batch.text\n"
      ],
      "execution_count": 0,
      "outputs": []
    },
    {
      "cell_type": "code",
      "metadata": {
        "id": "7ZiT30h4v34m",
        "colab_type": "code",
        "colab": {}
      },
      "source": [
        "\"\"\"\n",
        "CNN\n",
        "Author: Emily Tseng et397\n",
        "\n",
        "--\n",
        "\n",
        "\"\"\"\n",
        "\n",
        "import torch\n",
        "import torch.nn as nn\n",
        "from torch.autograd import Variable\n",
        "\n",
        "from tqdm import tqdm\n",
        "\n",
        "class CNN(nn.Module):\n",
        "  def __init__(self, embeddings, output_size, pad_idx, init_embed=False):\n",
        "    super(CNN, self).__init__()\n",
        "    vocab_size = embeddings.size(0)\n",
        "    embed_dim = embeddings.size(1)\n",
        "    self.pad_idx = pad_idx\n",
        "\n",
        "    # Shared embedding layer, |V| x embed_dim \n",
        "    self.embeddings = nn.Embedding(vocab_size, embed_dim, padding_idx=pad_idx)\n",
        "    if init_embed:\n",
        "      self.embeddings.weight.data.copy_(embeddings)\n",
        "\n",
        "    # Convolutional layers. Per Kim:\n",
        "    #   window sizes h=3,4,5 \n",
        "    #   \"100 feature maps\" = output size is 100\n",
        "    self.convs = nn.ModuleList([\n",
        "                                nn.Conv2d(1, 100, kernel_size=(window_size, embed_dim))\n",
        "                                for window_size in [3,4,5]\n",
        "    ])\n",
        "\n",
        "    # Dropout layer with p=0.5 per Kim\n",
        "    self.dropout = nn.Dropout(p=0.5)\n",
        "\n",
        "    # And includes 1 linear layer. 3 filters of size=100 each -> 300\n",
        "    self.linear = torch.nn.Linear(300, output_size, bias=True)\n",
        "  \n",
        "  def forward(self, x, train):\n",
        "    # x: (max sentence length, batch size)\n",
        "    x = x.T\n",
        "    # x: (batch size, max sentence length)\n",
        "    x.to(device)\n",
        "\n",
        "    embedded_x = self.embeddings(x).unsqueeze(1)\n",
        "    # embedded_x: (batch size, 1, max sentence length, embed_dim)\n",
        "\n",
        "    # Push the sentence through each of the 3 convs + activate via ReLU per Kim\n",
        "    conved_x = [nn.functional.relu(conv(embedded_x).squeeze(3)) for conv in self.convs]\n",
        "    # conv_3: (batch size, 100, max sentence length - 3 + 1) etc\n",
        "\n",
        "    # Apply max-pooling over each of the layers\n",
        "    pooled_x = [nn.functional.max_pool1d(conv, conv.size(2)).squeeze(2) for conv in conved_x]\n",
        "    # pooled_3: (batch size, 100) etc\n",
        "\n",
        "    # Then concat.\n",
        "    # output: (batch size, 100 * 3)\n",
        "    output = torch.cat(pooled_x, dim=1)\n",
        "\n",
        "    # If training, apply dropout at the penultimate layer for regularization per Kim\n",
        "    if train:\n",
        "      output = self.dropout(output)\n",
        "\n",
        "    # Then apply ultimate linear + softmax\n",
        "    output = self.linear(output)\n",
        "    return nn.functional.log_softmax(output, dim=1)\n",
        "  \n",
        "  def predict(self, x):\n",
        "    logits = self.forward(x, train=False)\n",
        "    return logits.max(1)[1]\n",
        "  \n",
        "  def train_model(self, train_iter, val_iter, epochs, lr):\n",
        "    \"\"\" Trains the model over the given parameters. Returns vector of epoch losses for plotting.\n",
        "    \"\"\"\n",
        "    self.train()\n",
        "    # Use Adadelta (per Kim) and CrossEnt\n",
        "    lossfunc = torch.nn.CrossEntropyLoss()\n",
        "    lossfunc.to(device)\n",
        "    optimizer = torch.optim.Adadelta(self.parameters(), lr=lr)\n",
        "    losses = []\n",
        "    for epoch in range(epochs):\n",
        "      epoch_loss = 0.\n",
        "      for batch_idx, batch in enumerate(train_iter):\n",
        "        optimizer.zero_grad()\n",
        "        # Sanitize so it's at least 5 long\n",
        "        sanitized_batch = sanitize_batch(batch, 5)\n",
        "        yhat = self.forward(sanitized_batch, train=True)\n",
        "        loss = lossfunc(yhat, batch.label)\n",
        "        loss.backward()\n",
        "        optimizer.step()\n",
        "        epoch_loss += loss.item()\n",
        "      epoch_loss /= len(train_iter)\n",
        "      losses.append(epoch_loss)\n",
        "      print('epoch loss: {}'.format(epoch_loss))\n",
        "      val_acc = self.evaluate(val_iter)\n",
        "      print('val acc after training epoch {}: {}'.format(epoch, val_acc))\n",
        "    return losses\n",
        "  \n",
        "  def evaluate(self, val_iter):\n",
        "    \"\"\" Evaluates against a batch of given data.\n",
        "    \"\"\"\n",
        "    with torch.no_grad():\n",
        "      self.eval()\n",
        "      correct = 0\n",
        "      total = 0\n",
        "      for batch_idx, batch in enumerate(val_iter):\n",
        "        sanitized_batch = sanitize_batch(batch, 5)\n",
        "        yhats = self.predict(sanitized_batch)\n",
        "        for i, yhat in enumerate(yhats):\n",
        "          if batch.label[i] == yhat:\n",
        "            correct += 1\n",
        "          total += 1\n",
        "      return float(correct / total)\n"
      ],
      "execution_count": 0,
      "outputs": []
    },
    {
      "cell_type": "code",
      "metadata": {
        "id": "AYp6ZGdJwKeC",
        "colab_type": "code",
        "outputId": "d91315ab-7ba3-49c8-f8e0-113246ccfefb",
        "colab": {
          "base_uri": "https://localhost:8080/",
          "height": 765
        }
      },
      "source": [
        "lr = 5e-2\n",
        "epochs = 20\n",
        "\n",
        "device = torch.device(\"cuda:0\" if torch.cuda.is_available() else \"cpu\")\n",
        "\n",
        "pad_idx=TEXT.vocab.stoi[TEXT.pad_token]\n",
        "\n",
        "cnn = CNN(TEXT.vocab.vectors, len(LABEL.vocab), pad_idx, init_embed=False)\n",
        "cnn.to(device)\n",
        "\n",
        "cnn_losses = cnn.train_model(train_iter, val_iter, epochs, lr)\n",
        "test_acc = cnn.evaluate(test_iter)\n",
        "print('\\nfinal test_acc for CNN: {}'.format(test_acc))"
      ],
      "execution_count": 22,
      "outputs": [
        {
          "output_type": "stream",
          "text": [
            "epoch loss: 0.7379388183010795\n",
            "val acc after training epoch 0: 0.6823394495412844\n",
            "epoch loss: 0.5404441770532228\n",
            "val acc after training epoch 1: 0.7029816513761468\n",
            "epoch loss: 0.37976736844533443\n",
            "val acc after training epoch 2: 0.7144495412844036\n",
            "epoch loss: 0.23034781023773843\n",
            "val acc after training epoch 3: 0.6972477064220184\n",
            "epoch loss: 0.11523454824753235\n",
            "val acc after training epoch 4: 0.7087155963302753\n",
            "epoch loss: 0.04644142206343741\n",
            "val acc after training epoch 5: 0.7052752293577982\n",
            "epoch loss: 0.015787602655288113\n",
            "val acc after training epoch 6: 0.7110091743119266\n",
            "epoch loss: 0.005460934482334516\n",
            "val acc after training epoch 7: 0.7064220183486238\n",
            "epoch loss: 0.002522401143329062\n",
            "val acc after training epoch 8: 0.713302752293578\n",
            "epoch loss: 0.0015340543166509522\n",
            "val acc after training epoch 9: 0.7087155963302753\n",
            "epoch loss: 0.0010889839801386891\n",
            "val acc after training epoch 10: 0.7098623853211009\n",
            "epoch loss: 0.0008271247297145205\n",
            "val acc after training epoch 11: 0.713302752293578\n",
            "epoch loss: 0.0006641507979547685\n",
            "val acc after training epoch 12: 0.7098623853211009\n",
            "epoch loss: 0.0005560206734532264\n",
            "val acc after training epoch 13: 0.7087155963302753\n",
            "epoch loss: 0.00047414627652013047\n",
            "val acc after training epoch 14: 0.7098623853211009\n",
            "epoch loss: 0.00041564658215717613\n",
            "val acc after training epoch 15: 0.7087155963302753\n",
            "epoch loss: 0.000368636502566205\n",
            "val acc after training epoch 16: 0.7098623853211009\n",
            "epoch loss: 0.00033232373441333986\n",
            "val acc after training epoch 17: 0.7098623853211009\n",
            "epoch loss: 0.00030049122496707585\n",
            "val acc after training epoch 18: 0.7098623853211009\n",
            "epoch loss: 0.0002752377046024019\n",
            "val acc after training epoch 19: 0.7098623853211009\n",
            "\tpadding batch\n",
            "\tpadding batch\n",
            "\n",
            "final test_acc for CNN: 0.7018121911037891\n"
          ],
          "name": "stdout"
        }
      ]
    },
    {
      "cell_type": "code",
      "metadata": {
        "id": "0PgPIhIDJc1O",
        "colab_type": "code",
        "colab": {
          "base_uri": "https://localhost:8080/",
          "height": 765
        },
        "outputId": "51840e0c-54a5-43b2-fe6f-1f72764cb37b"
      },
      "source": [
        "lr = 5e-2\n",
        "epochs = 20\n",
        "\n",
        "device = torch.device(\"cuda:0\" if torch.cuda.is_available() else \"cpu\")\n",
        "\n",
        "pad_idx=TEXT.vocab.stoi[TEXT.pad_token]\n",
        "\n",
        "cnn2 = CNN(TEXT.vocab.vectors, len(LABEL.vocab), pad_idx, init_embed=True)\n",
        "cnn2.to(device)\n",
        "\n",
        "cnn2_losses = cnn2.train_model(train_iter, val_iter, epochs, lr)\n",
        "test_acc = cnn2.evaluate(test_iter)\n",
        "print('\\nfinal test_acc for CNN: {}'.format(test_acc))"
      ],
      "execution_count": 37,
      "outputs": [
        {
          "output_type": "stream",
          "text": [
            "epoch loss: 0.6701995651156916\n",
            "val acc after training epoch 0: 0.7052752293577982\n",
            "epoch loss: 0.5995232576149048\n",
            "val acc after training epoch 1: 0.7224770642201835\n",
            "epoch loss: 0.521253361436673\n",
            "val acc after training epoch 2: 0.7408256880733946\n",
            "epoch loss: 0.4516537863265917\n",
            "val acc after training epoch 3: 0.7511467889908257\n",
            "epoch loss: 0.39364450506736776\n",
            "val acc after training epoch 4: 0.7557339449541285\n",
            "epoch loss: 0.3405065650195745\n",
            "val acc after training epoch 5: 0.7557339449541285\n",
            "epoch loss: 0.2907878750493761\n",
            "val acc after training epoch 6: 0.7568807339449541\n",
            "epoch loss: 0.24489140262385842\n",
            "val acc after training epoch 7: 0.7385321100917431\n",
            "epoch loss: 0.20239908056538228\n",
            "val acc after training epoch 8: 0.7614678899082569\n",
            "epoch loss: 0.1644754003830297\n",
            "val acc after training epoch 9: 0.7694954128440367\n",
            "epoch loss: 0.13099715119561536\n",
            "val acc after training epoch 10: 0.7419724770642202\n",
            "epoch loss: 0.10258676475613793\n",
            "val acc after training epoch 11: 0.7786697247706422\n",
            "epoch loss: 0.0796212723580959\n",
            "val acc after training epoch 12: 0.7649082568807339\n",
            "epoch loss: 0.061663015204551766\n",
            "val acc after training epoch 13: 0.7672018348623854\n",
            "epoch loss: 0.047128534153765986\n",
            "val acc after training epoch 14: 0.7786697247706422\n",
            "epoch loss: 0.03637064451074518\n",
            "val acc after training epoch 15: 0.7798165137614679\n",
            "epoch loss: 0.02836299064902944\n",
            "val acc after training epoch 16: 0.7775229357798165\n",
            "epoch loss: 0.022496502228401535\n",
            "val acc after training epoch 17: 0.7660550458715596\n",
            "epoch loss: 0.018177676958037337\n",
            "val acc after training epoch 18: 0.7740825688073395\n",
            "epoch loss: 0.014957725175729054\n",
            "val acc after training epoch 19: 0.7694954128440367\n",
            "\tpadding batch\n",
            "\tpadding batch\n",
            "\n",
            "final test_acc for CNN: 0.7753981328940143\n"
          ],
          "name": "stdout"
        }
      ]
    },
    {
      "cell_type": "code",
      "metadata": {
        "id": "tHZcs6FTGfKC",
        "colab_type": "code",
        "colab": {
          "base_uri": "https://localhost:8080/",
          "height": 279
        },
        "outputId": "37f7050f-ed56-44ed-e57b-355cefc51d2d"
      },
      "source": [
        "import matplotlib.pyplot as plt\n",
        "\n",
        "def plot_losses(labeled_losses):\n",
        "  \"\"\"\n",
        "    Input: [(losses, label), (losses2, label2)...]\n",
        "    Plots them\n",
        "  \"\"\"\n",
        "  for (losses, label) in labeled_losses:\n",
        "    plt.plot(range(len(losses)), losses, label=label)\n",
        "  plt.xlabel('Epoch')\n",
        "  plt.ylabel('Loss')\n",
        "  plt.legend()\n",
        "  plt.show()\n",
        "\n",
        "plot_losses([\n",
        "             (logreg_losses, \"LR\"),\n",
        "             (cbow_losses, \"CBOW\"),\n",
        "             (cnn_losses, \"CNN\"),\n",
        "             (cnn2_losses, \"CNN*\"),\n",
        "])"
      ],
      "execution_count": 38,
      "outputs": [
        {
          "output_type": "display_data",
          "data": {
            "image/png": "[encoded data removed]",
            "text/plain": [
              "<Figure size 432x288 with 1 Axes>"
            ]
          },
          "metadata": {
            "tags": []
          }
        }
      ]
    },
    {
      "cell_type": "markdown",
      "metadata": {
        "id": "YiFYDx_58M76",
        "colab_type": "text"
      },
      "source": [
        "In addition, you should put up a (short) write-up following the [template](https://github.com/harvardnlp/cs6741/tree/master/nlp-template) provided in the repository. "
      ]
    }
  ]
}