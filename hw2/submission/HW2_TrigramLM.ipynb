{
  "nbformat": 4,
  "nbformat_minor": 0,
  "metadata": {
    "colab": {
      "name": "HW2-TrigramLM.ipynb",
      "provenance": []
    },
    "kernelspec": {
      "name": "python3",
      "display_name": "Python 3"
    },
    "accelerator": "GPU",
    "widgets": {
      "application/vnd.jupyter.widget-state+json": {
        "98c58caa79f541308e22fbe11a37c55d": {
          "model_module": "@jupyter-widgets/controls",
          "model_name": "HBoxModel",
          "state": {
            "_view_name": "HBoxView",
            "_dom_classes": [],
            "_model_name": "HBoxModel",
            "_view_module": "@jupyter-widgets/controls",
            "_model_module_version": "1.5.0",
            "_view_count": null,
            "_view_module_version": "1.5.0",
            "box_style": "",
            "layout": "IPY_MODEL_2555b6b7c9814c9eb193546d92366a33",
            "_model_module": "@jupyter-widgets/controls",
            "children": [
              "IPY_MODEL_53b0d85946944cc5819d8dd51eb54d20",
              "IPY_MODEL_32e47295d0234c019fd0725ad4e06e2e"
            ]
          }
        },
        "2555b6b7c9814c9eb193546d92366a33": {
          "model_module": "@jupyter-widgets/base",
          "model_name": "LayoutModel",
          "state": {
            "_view_name": "LayoutView",
            "grid_template_rows": null,
            "right": null,
            "justify_content": null,
            "_view_module": "@jupyter-widgets/base",
            "overflow": null,
            "_model_module_version": "1.2.0",
            "_view_count": null,
            "flex_flow": null,
            "width": null,
            "min_width": null,
            "border": null,
            "align_items": null,
            "bottom": null,
            "_model_module": "@jupyter-widgets/base",
            "top": null,
            "grid_column": null,
            "overflow_y": null,
            "overflow_x": null,
            "grid_auto_flow": null,
            "grid_area": null,
            "grid_template_columns": null,
            "flex": null,
            "_model_name": "LayoutModel",
            "justify_items": null,
            "grid_row": null,
            "max_height": null,
            "align_content": null,
            "visibility": null,
            "align_self": null,
            "height": null,
            "min_height": null,
            "padding": null,
            "grid_auto_rows": null,
            "grid_gap": null,
            "max_width": null,
            "order": null,
            "_view_module_version": "1.2.0",
            "grid_template_areas": null,
            "object_position": null,
            "object_fit": null,
            "grid_auto_columns": null,
            "margin": null,
            "display": null,
            "left": null
          }
        },
        "53b0d85946944cc5819d8dd51eb54d20": {
          "model_module": "@jupyter-widgets/controls",
          "model_name": "IntProgressModel",
          "state": {
            "_view_name": "ProgressView",
            "style": "IPY_MODEL_d7d009cc13ec48a6bfbc2e7a51d353f8",
            "_dom_classes": [],
            "description": "",
            "_model_name": "IntProgressModel",
            "bar_style": "success",
            "max": 2905,
            "_view_module": "@jupyter-widgets/controls",
            "_model_module_version": "1.5.0",
            "value": 2905,
            "_view_count": null,
            "_view_module_version": "1.5.0",
            "orientation": "horizontal",
            "min": 0,
            "description_tooltip": null,
            "_model_module": "@jupyter-widgets/controls",
            "layout": "IPY_MODEL_1b7d56bae6b34dbeb22d6c7861a5b1f1"
          }
        },
        "32e47295d0234c019fd0725ad4e06e2e": {
          "model_module": "@jupyter-widgets/controls",
          "model_name": "HTMLModel",
          "state": {
            "_view_name": "HTMLView",
            "style": "IPY_MODEL_028b6e7fad344f5bacec6480121fd009",
            "_dom_classes": [],
            "description": "",
            "_model_name": "HTMLModel",
            "placeholder": "​",
            "_view_module": "@jupyter-widgets/controls",
            "_model_module_version": "1.5.0",
            "value": "100% 2905/2905 [01:19&lt;00:00, 36.52it/s]",
            "_view_count": null,
            "_view_module_version": "1.5.0",
            "description_tooltip": null,
            "_model_module": "@jupyter-widgets/controls",
            "layout": "IPY_MODEL_03bfe6e8e0344861b1637032b301f81c"
          }
        },
        "d7d009cc13ec48a6bfbc2e7a51d353f8": {
          "model_module": "@jupyter-widgets/controls",
          "model_name": "ProgressStyleModel",
          "state": {
            "_view_name": "StyleView",
            "_model_name": "ProgressStyleModel",
            "description_width": "",
            "_view_module": "@jupyter-widgets/base",
            "_model_module_version": "1.5.0",
            "_view_count": null,
            "_view_module_version": "1.2.0",
            "bar_color": null,
            "_model_module": "@jupyter-widgets/controls"
          }
        },
        "1b7d56bae6b34dbeb22d6c7861a5b1f1": {
          "model_module": "@jupyter-widgets/base",
          "model_name": "LayoutModel",
          "state": {
            "_view_name": "LayoutView",
            "grid_template_rows": null,
            "right": null,
            "justify_content": null,
            "_view_module": "@jupyter-widgets/base",
            "overflow": null,
            "_model_module_version": "1.2.0",
            "_view_count": null,
            "flex_flow": null,
            "width": null,
            "min_width": null,
            "border": null,
            "align_items": null,
            "bottom": null,
            "_model_module": "@jupyter-widgets/base",
            "top": null,
            "grid_column": null,
            "overflow_y": null,
            "overflow_x": null,
            "grid_auto_flow": null,
            "grid_area": null,
            "grid_template_columns": null,
            "flex": null,
            "_model_name": "LayoutModel",
            "justify_items": null,
            "grid_row": null,
            "max_height": null,
            "align_content": null,
            "visibility": null,
            "align_self": null,
            "height": null,
            "min_height": null,
            "padding": null,
            "grid_auto_rows": null,
            "grid_gap": null,
            "max_width": null,
            "order": null,
            "_view_module_version": "1.2.0",
            "grid_template_areas": null,
            "object_position": null,
            "object_fit": null,
            "grid_auto_columns": null,
            "margin": null,
            "display": null,
            "left": null
          }
        },
        "028b6e7fad344f5bacec6480121fd009": {
          "model_module": "@jupyter-widgets/controls",
          "model_name": "DescriptionStyleModel",
          "state": {
            "_view_name": "StyleView",
            "_model_name": "DescriptionStyleModel",
            "description_width": "",
            "_view_module": "@jupyter-widgets/base",
            "_model_module_version": "1.5.0",
            "_view_count": null,
            "_view_module_version": "1.2.0",
            "_model_module": "@jupyter-widgets/controls"
          }
        },
        "03bfe6e8e0344861b1637032b301f81c": {
          "model_module": "@jupyter-widgets/base",
          "model_name": "LayoutModel",
          "state": {
            "_view_name": "LayoutView",
            "grid_template_rows": null,
            "right": null,
            "justify_content": null,
            "_view_module": "@jupyter-widgets/base",
            "overflow": null,
            "_model_module_version": "1.2.0",
            "_view_count": null,
            "flex_flow": null,
            "width": null,
            "min_width": null,
            "border": null,
            "align_items": null,
            "bottom": null,
            "_model_module": "@jupyter-widgets/base",
            "top": null,
            "grid_column": null,
            "overflow_y": null,
            "overflow_x": null,
            "grid_auto_flow": null,
            "grid_area": null,
            "grid_template_columns": null,
            "flex": null,
            "_model_name": "LayoutModel",
            "justify_items": null,
            "grid_row": null,
            "max_height": null,
            "align_content": null,
            "visibility": null,
            "align_self": null,
            "height": null,
            "min_height": null,
            "padding": null,
            "grid_auto_rows": null,
            "grid_gap": null,
            "max_width": null,
            "order": null,
            "_view_module_version": "1.2.0",
            "grid_template_areas": null,
            "object_position": null,
            "object_fit": null,
            "grid_auto_columns": null,
            "margin": null,
            "display": null,
            "left": null
          }
        },
        "bac623d955734e0ab4aae77d4d0f144f": {
          "model_module": "@jupyter-widgets/controls",
          "model_name": "HBoxModel",
          "state": {
            "_view_name": "HBoxView",
            "_dom_classes": [],
            "_model_name": "HBoxModel",
            "_view_module": "@jupyter-widgets/controls",
            "_model_module_version": "1.5.0",
            "_view_count": null,
            "_view_module_version": "1.5.0",
            "box_style": "",
            "layout": "IPY_MODEL_ca4094f377594b67b7bd9264d7a8e9ca",
            "_model_module": "@jupyter-widgets/controls",
            "children": [
              "IPY_MODEL_835f1621dc36489ebbb048c0d9288337",
              "IPY_MODEL_983b7a200fef49ee87e532329d8fc661"
            ]
          }
        },
        "ca4094f377594b67b7bd9264d7a8e9ca": {
          "model_module": "@jupyter-widgets/base",
          "model_name": "LayoutModel",
          "state": {
            "_view_name": "LayoutView",
            "grid_template_rows": null,
            "right": null,
            "justify_content": null,
            "_view_module": "@jupyter-widgets/base",
            "overflow": null,
            "_model_module_version": "1.2.0",
            "_view_count": null,
            "flex_flow": null,
            "width": null,
            "min_width": null,
            "border": null,
            "align_items": null,
            "bottom": null,
            "_model_module": "@jupyter-widgets/base",
            "top": null,
            "grid_column": null,
            "overflow_y": null,
            "overflow_x": null,
            "grid_auto_flow": null,
            "grid_area": null,
            "grid_template_columns": null,
            "flex": null,
            "_model_name": "LayoutModel",
            "justify_items": null,
            "grid_row": null,
            "max_height": null,
            "align_content": null,
            "visibility": null,
            "align_self": null,
            "height": null,
            "min_height": null,
            "padding": null,
            "grid_auto_rows": null,
            "grid_gap": null,
            "max_width": null,
            "order": null,
            "_view_module_version": "1.2.0",
            "grid_template_areas": null,
            "object_position": null,
            "object_fit": null,
            "grid_auto_columns": null,
            "margin": null,
            "display": null,
            "left": null
          }
        },
        "835f1621dc36489ebbb048c0d9288337": {
          "model_module": "@jupyter-widgets/controls",
          "model_name": "IntProgressModel",
          "state": {
            "_view_name": "ProgressView",
            "style": "IPY_MODEL_1a81ebb518cf4be09f23dd02f26103d7",
            "_dom_classes": [],
            "description": "",
            "_model_name": "IntProgressModel",
            "bar_style": "success",
            "max": 10000,
            "_view_module": "@jupyter-widgets/controls",
            "_model_module_version": "1.5.0",
            "value": 10000,
            "_view_count": null,
            "_view_module_version": "1.5.0",
            "orientation": "horizontal",
            "min": 0,
            "description_tooltip": null,
            "_model_module": "@jupyter-widgets/controls",
            "layout": "IPY_MODEL_b1640f3d8bdd485e904afbd3df5e709a"
          }
        },
        "983b7a200fef49ee87e532329d8fc661": {
          "model_module": "@jupyter-widgets/controls",
          "model_name": "HTMLModel",
          "state": {
            "_view_name": "HTMLView",
            "style": "IPY_MODEL_1d800fd0041248ada1d7011e99649b0b",
            "_dom_classes": [],
            "description": "",
            "_model_name": "HTMLModel",
            "placeholder": "​",
            "_view_module": "@jupyter-widgets/controls",
            "_model_module_version": "1.5.0",
            "value": "100% 10000/10000 [00:00&lt;00:00, 56813.91it/s]",
            "_view_count": null,
            "_view_module_version": "1.5.0",
            "description_tooltip": null,
            "_model_module": "@jupyter-widgets/controls",
            "layout": "IPY_MODEL_ec2c661964e84385b177989d2eeb5a76"
          }
        },
        "1a81ebb518cf4be09f23dd02f26103d7": {
          "model_module": "@jupyter-widgets/controls",
          "model_name": "ProgressStyleModel",
          "state": {
            "_view_name": "StyleView",
            "_model_name": "ProgressStyleModel",
            "description_width": "",
            "_view_module": "@jupyter-widgets/base",
            "_model_module_version": "1.5.0",
            "_view_count": null,
            "_view_module_version": "1.2.0",
            "bar_color": null,
            "_model_module": "@jupyter-widgets/controls"
          }
        },
        "b1640f3d8bdd485e904afbd3df5e709a": {
          "model_module": "@jupyter-widgets/base",
          "model_name": "LayoutModel",
          "state": {
            "_view_name": "LayoutView",
            "grid_template_rows": null,
            "right": null,
            "justify_content": null,
            "_view_module": "@jupyter-widgets/base",
            "overflow": null,
            "_model_module_version": "1.2.0",
            "_view_count": null,
            "flex_flow": null,
            "width": null,
            "min_width": null,
            "border": null,
            "align_items": null,
            "bottom": null,
            "_model_module": "@jupyter-widgets/base",
            "top": null,
            "grid_column": null,
            "overflow_y": null,
            "overflow_x": null,
            "grid_auto_flow": null,
            "grid_area": null,
            "grid_template_columns": null,
            "flex": null,
            "_model_name": "LayoutModel",
            "justify_items": null,
            "grid_row": null,
            "max_height": null,
            "align_content": null,
            "visibility": null,
            "align_self": null,
            "height": null,
            "min_height": null,
            "padding": null,
            "grid_auto_rows": null,
            "grid_gap": null,
            "max_width": null,
            "order": null,
            "_view_module_version": "1.2.0",
            "grid_template_areas": null,
            "object_position": null,
            "object_fit": null,
            "grid_auto_columns": null,
            "margin": null,
            "display": null,
            "left": null
          }
        },
        "1d800fd0041248ada1d7011e99649b0b": {
          "model_module": "@jupyter-widgets/controls",
          "model_name": "DescriptionStyleModel",
          "state": {
            "_view_name": "StyleView",
            "_model_name": "DescriptionStyleModel",
            "description_width": "",
            "_view_module": "@jupyter-widgets/base",
            "_model_module_version": "1.5.0",
            "_view_count": null,
            "_view_module_version": "1.2.0",
            "_model_module": "@jupyter-widgets/controls"
          }
        },
        "ec2c661964e84385b177989d2eeb5a76": {
          "model_module": "@jupyter-widgets/base",
          "model_name": "LayoutModel",
          "state": {
            "_view_name": "LayoutView",
            "grid_template_rows": null,
            "right": null,
            "justify_content": null,
            "_view_module": "@jupyter-widgets/base",
            "overflow": null,
            "_model_module_version": "1.2.0",
            "_view_count": null,
            "flex_flow": null,
            "width": null,
            "min_width": null,
            "border": null,
            "align_items": null,
            "bottom": null,
            "_model_module": "@jupyter-widgets/base",
            "top": null,
            "grid_column": null,
            "overflow_y": null,
            "overflow_x": null,
            "grid_auto_flow": null,
            "grid_area": null,
            "grid_template_columns": null,
            "flex": null,
            "_model_name": "LayoutModel",
            "justify_items": null,
            "grid_row": null,
            "max_height": null,
            "align_content": null,
            "visibility": null,
            "align_self": null,
            "height": null,
            "min_height": null,
            "padding": null,
            "grid_auto_rows": null,
            "grid_gap": null,
            "max_width": null,
            "order": null,
            "_view_module_version": "1.2.0",
            "grid_template_areas": null,
            "object_position": null,
            "object_fit": null,
            "grid_auto_columns": null,
            "margin": null,
            "display": null,
            "left": null
          }
        },
        "37301660c2e242c997f4aa8c8bd2234b": {
          "model_module": "@jupyter-widgets/controls",
          "model_name": "HBoxModel",
          "state": {
            "_view_name": "HBoxView",
            "_dom_classes": [],
            "_model_name": "HBoxModel",
            "_view_module": "@jupyter-widgets/controls",
            "_model_module_version": "1.5.0",
            "_view_count": null,
            "_view_module_version": "1.5.0",
            "box_style": "",
            "layout": "IPY_MODEL_4cef533b7f7f45a198ed18a2ccc9cd04",
            "_model_module": "@jupyter-widgets/controls",
            "children": [
              "IPY_MODEL_8b965d53e028457d8846b5882b4c7d9c",
              "IPY_MODEL_c12b1b6a177f4284850551f36de21c6a"
            ]
          }
        },
        "4cef533b7f7f45a198ed18a2ccc9cd04": {
          "model_module": "@jupyter-widgets/base",
          "model_name": "LayoutModel",
          "state": {
            "_view_name": "LayoutView",
            "grid_template_rows": null,
            "right": null,
            "justify_content": null,
            "_view_module": "@jupyter-widgets/base",
            "overflow": null,
            "_model_module_version": "1.2.0",
            "_view_count": null,
            "flex_flow": null,
            "width": null,
            "min_width": null,
            "border": null,
            "align_items": null,
            "bottom": null,
            "_model_module": "@jupyter-widgets/base",
            "top": null,
            "grid_column": null,
            "overflow_y": null,
            "overflow_x": null,
            "grid_auto_flow": null,
            "grid_area": null,
            "grid_template_columns": null,
            "flex": null,
            "_model_name": "LayoutModel",
            "justify_items": null,
            "grid_row": null,
            "max_height": null,
            "align_content": null,
            "visibility": null,
            "align_self": null,
            "height": null,
            "min_height": null,
            "padding": null,
            "grid_auto_rows": null,
            "grid_gap": null,
            "max_width": null,
            "order": null,
            "_view_module_version": "1.2.0",
            "grid_template_areas": null,
            "object_position": null,
            "object_fit": null,
            "grid_auto_columns": null,
            "margin": null,
            "display": null,
            "left": null
          }
        },
        "8b965d53e028457d8846b5882b4c7d9c": {
          "model_module": "@jupyter-widgets/controls",
          "model_name": "IntProgressModel",
          "state": {
            "_view_name": "ProgressView",
            "style": "IPY_MODEL_2c93592ddd3349f0909ace9ba9679b18",
            "_dom_classes": [],
            "description": "",
            "_model_name": "IntProgressModel",
            "bar_style": "success",
            "max": 274435,
            "_view_module": "@jupyter-widgets/controls",
            "_model_module_version": "1.5.0",
            "value": 274435,
            "_view_count": null,
            "_view_module_version": "1.5.0",
            "orientation": "horizontal",
            "min": 0,
            "description_tooltip": null,
            "_model_module": "@jupyter-widgets/controls",
            "layout": "IPY_MODEL_469ee912ed9049ca8928758b351de1b7"
          }
        },
        "c12b1b6a177f4284850551f36de21c6a": {
          "model_module": "@jupyter-widgets/controls",
          "model_name": "HTMLModel",
          "state": {
            "_view_name": "HTMLView",
            "style": "IPY_MODEL_0d3b729c3983403991ddbaec5072f6c6",
            "_dom_classes": [],
            "description": "",
            "_model_name": "HTMLModel",
            "placeholder": "​",
            "_view_module": "@jupyter-widgets/controls",
            "_model_module_version": "1.5.0",
            "value": "100% 274435/274435 [00:00&lt;00:00, 361860.17it/s]",
            "_view_count": null,
            "_view_module_version": "1.5.0",
            "description_tooltip": null,
            "_model_module": "@jupyter-widgets/controls",
            "layout": "IPY_MODEL_b19e7490f519491882e7b2fc16f15a13"
          }
        },
        "2c93592ddd3349f0909ace9ba9679b18": {
          "model_module": "@jupyter-widgets/controls",
          "model_name": "ProgressStyleModel",
          "state": {
            "_view_name": "StyleView",
            "_model_name": "ProgressStyleModel",
            "description_width": "",
            "_view_module": "@jupyter-widgets/base",
            "_model_module_version": "1.5.0",
            "_view_count": null,
            "_view_module_version": "1.2.0",
            "bar_color": null,
            "_model_module": "@jupyter-widgets/controls"
          }
        },
        "469ee912ed9049ca8928758b351de1b7": {
          "model_module": "@jupyter-widgets/base",
          "model_name": "LayoutModel",
          "state": {
            "_view_name": "LayoutView",
            "grid_template_rows": null,
            "right": null,
            "justify_content": null,
            "_view_module": "@jupyter-widgets/base",
            "overflow": null,
            "_model_module_version": "1.2.0",
            "_view_count": null,
            "flex_flow": null,
            "width": null,
            "min_width": null,
            "border": null,
            "align_items": null,
            "bottom": null,
            "_model_module": "@jupyter-widgets/base",
            "top": null,
            "grid_column": null,
            "overflow_y": null,
            "overflow_x": null,
            "grid_auto_flow": null,
            "grid_area": null,
            "grid_template_columns": null,
            "flex": null,
            "_model_name": "LayoutModel",
            "justify_items": null,
            "grid_row": null,
            "max_height": null,
            "align_content": null,
            "visibility": null,
            "align_self": null,
            "height": null,
            "min_height": null,
            "padding": null,
            "grid_auto_rows": null,
            "grid_gap": null,
            "max_width": null,
            "order": null,
            "_view_module_version": "1.2.0",
            "grid_template_areas": null,
            "object_position": null,
            "object_fit": null,
            "grid_auto_columns": null,
            "margin": null,
            "display": null,
            "left": null
          }
        },
        "0d3b729c3983403991ddbaec5072f6c6": {
          "model_module": "@jupyter-widgets/controls",
          "model_name": "DescriptionStyleModel",
          "state": {
            "_view_name": "StyleView",
            "_model_name": "DescriptionStyleModel",
            "description_width": "",
            "_view_module": "@jupyter-widgets/base",
            "_model_module_version": "1.5.0",
            "_view_count": null,
            "_view_module_version": "1.2.0",
            "_model_module": "@jupyter-widgets/controls"
          }
        },
        "b19e7490f519491882e7b2fc16f15a13": {
          "model_module": "@jupyter-widgets/base",
          "model_name": "LayoutModel",
          "state": {
            "_view_name": "LayoutView",
            "grid_template_rows": null,
            "right": null,
            "justify_content": null,
            "_view_module": "@jupyter-widgets/base",
            "overflow": null,
            "_model_module_version": "1.2.0",
            "_view_count": null,
            "flex_flow": null,
            "width": null,
            "min_width": null,
            "border": null,
            "align_items": null,
            "bottom": null,
            "_model_module": "@jupyter-widgets/base",
            "top": null,
            "grid_column": null,
            "overflow_y": null,
            "overflow_x": null,
            "grid_auto_flow": null,
            "grid_area": null,
            "grid_template_columns": null,
            "flex": null,
            "_model_name": "LayoutModel",
            "justify_items": null,
            "grid_row": null,
            "max_height": null,
            "align_content": null,
            "visibility": null,
            "align_self": null,
            "height": null,
            "min_height": null,
            "padding": null,
            "grid_auto_rows": null,
            "grid_gap": null,
            "max_width": null,
            "order": null,
            "_view_module_version": "1.2.0",
            "grid_template_areas": null,
            "object_position": null,
            "object_fit": null,
            "grid_auto_columns": null,
            "margin": null,
            "display": null,
            "left": null
          }
        },
        "90c1bbf613f248c09eb7094486b0ec36": {
          "model_module": "@jupyter-widgets/controls",
          "model_name": "HBoxModel",
          "state": {
            "_view_name": "HBoxView",
            "_dom_classes": [],
            "_model_name": "HBoxModel",
            "_view_module": "@jupyter-widgets/controls",
            "_model_module_version": "1.5.0",
            "_view_count": null,
            "_view_module_version": "1.5.0",
            "box_style": "",
            "layout": "IPY_MODEL_163df0ad7dbf4d1fb65c3fb1cffc9817",
            "_model_module": "@jupyter-widgets/controls",
            "children": [
              "IPY_MODEL_b9451705966342729b8edce435992a3b",
              "IPY_MODEL_7de39e5a38fd41a38c59eb97afd26618"
            ]
          }
        },
        "163df0ad7dbf4d1fb65c3fb1cffc9817": {
          "model_module": "@jupyter-widgets/base",
          "model_name": "LayoutModel",
          "state": {
            "_view_name": "LayoutView",
            "grid_template_rows": null,
            "right": null,
            "justify_content": null,
            "_view_module": "@jupyter-widgets/base",
            "overflow": null,
            "_model_module_version": "1.2.0",
            "_view_count": null,
            "flex_flow": null,
            "width": null,
            "min_width": null,
            "border": null,
            "align_items": null,
            "bottom": null,
            "_model_module": "@jupyter-widgets/base",
            "top": null,
            "grid_column": null,
            "overflow_y": null,
            "overflow_x": null,
            "grid_auto_flow": null,
            "grid_area": null,
            "grid_template_columns": null,
            "flex": null,
            "_model_name": "LayoutModel",
            "justify_items": null,
            "grid_row": null,
            "max_height": null,
            "align_content": null,
            "visibility": null,
            "align_self": null,
            "height": null,
            "min_height": null,
            "padding": null,
            "grid_auto_rows": null,
            "grid_gap": null,
            "max_width": null,
            "order": null,
            "_view_module_version": "1.2.0",
            "grid_template_areas": null,
            "object_position": null,
            "object_fit": null,
            "grid_auto_columns": null,
            "margin": null,
            "display": null,
            "left": null
          }
        },
        "b9451705966342729b8edce435992a3b": {
          "model_module": "@jupyter-widgets/controls",
          "model_name": "IntProgressModel",
          "state": {
            "_view_name": "ProgressView",
            "style": "IPY_MODEL_5c3323614e644b049956ebd830b80d82",
            "_dom_classes": [],
            "description": "",
            "_model_name": "IntProgressModel",
            "bar_style": "success",
            "max": 2905,
            "_view_module": "@jupyter-widgets/controls",
            "_model_module_version": "1.5.0",
            "value": 2905,
            "_view_count": null,
            "_view_module_version": "1.5.0",
            "orientation": "horizontal",
            "min": 0,
            "description_tooltip": null,
            "_model_module": "@jupyter-widgets/controls",
            "layout": "IPY_MODEL_b9a21b651be749bc9485b081492f396c"
          }
        },
        "7de39e5a38fd41a38c59eb97afd26618": {
          "model_module": "@jupyter-widgets/controls",
          "model_name": "HTMLModel",
          "state": {
            "_view_name": "HTMLView",
            "style": "IPY_MODEL_cfa525f5bced4d1bb83fa1b173dd7e38",
            "_dom_classes": [],
            "description": "",
            "_model_name": "HTMLModel",
            "placeholder": "​",
            "_view_module": "@jupyter-widgets/controls",
            "_model_module_version": "1.5.0",
            "value": "100% 2905/2905 [01:28&lt;00:00, 32.79it/s]",
            "_view_count": null,
            "_view_module_version": "1.5.0",
            "description_tooltip": null,
            "_model_module": "@jupyter-widgets/controls",
            "layout": "IPY_MODEL_c13ee479c40243ada824d92beccc6ffa"
          }
        },
        "5c3323614e644b049956ebd830b80d82": {
          "model_module": "@jupyter-widgets/controls",
          "model_name": "ProgressStyleModel",
          "state": {
            "_view_name": "StyleView",
            "_model_name": "ProgressStyleModel",
            "description_width": "",
            "_view_module": "@jupyter-widgets/base",
            "_model_module_version": "1.5.0",
            "_view_count": null,
            "_view_module_version": "1.2.0",
            "bar_color": null,
            "_model_module": "@jupyter-widgets/controls"
          }
        },
        "b9a21b651be749bc9485b081492f396c": {
          "model_module": "@jupyter-widgets/base",
          "model_name": "LayoutModel",
          "state": {
            "_view_name": "LayoutView",
            "grid_template_rows": null,
            "right": null,
            "justify_content": null,
            "_view_module": "@jupyter-widgets/base",
            "overflow": null,
            "_model_module_version": "1.2.0",
            "_view_count": null,
            "flex_flow": null,
            "width": null,
            "min_width": null,
            "border": null,
            "align_items": null,
            "bottom": null,
            "_model_module": "@jupyter-widgets/base",
            "top": null,
            "grid_column": null,
            "overflow_y": null,
            "overflow_x": null,
            "grid_auto_flow": null,
            "grid_area": null,
            "grid_template_columns": null,
            "flex": null,
            "_model_name": "LayoutModel",
            "justify_items": null,
            "grid_row": null,
            "max_height": null,
            "align_content": null,
            "visibility": null,
            "align_self": null,
            "height": null,
            "min_height": null,
            "padding": null,
            "grid_auto_rows": null,
            "grid_gap": null,
            "max_width": null,
            "order": null,
            "_view_module_version": "1.2.0",
            "grid_template_areas": null,
            "object_position": null,
            "object_fit": null,
            "grid_auto_columns": null,
            "margin": null,
            "display": null,
            "left": null
          }
        },
        "cfa525f5bced4d1bb83fa1b173dd7e38": {
          "model_module": "@jupyter-widgets/controls",
          "model_name": "DescriptionStyleModel",
          "state": {
            "_view_name": "StyleView",
            "_model_name": "DescriptionStyleModel",
            "description_width": "",
            "_view_module": "@jupyter-widgets/base",
            "_model_module_version": "1.5.0",
            "_view_count": null,
            "_view_module_version": "1.2.0",
            "_model_module": "@jupyter-widgets/controls"
          }
        },
        "c13ee479c40243ada824d92beccc6ffa": {
          "model_module": "@jupyter-widgets/base",
          "model_name": "LayoutModel",
          "state": {
            "_view_name": "LayoutView",
            "grid_template_rows": null,
            "right": null,
            "justify_content": null,
            "_view_module": "@jupyter-widgets/base",
            "overflow": null,
            "_model_module_version": "1.2.0",
            "_view_count": null,
            "flex_flow": null,
            "width": null,
            "min_width": null,
            "border": null,
            "align_items": null,
            "bottom": null,
            "_model_module": "@jupyter-widgets/base",
            "top": null,
            "grid_column": null,
            "overflow_y": null,
            "overflow_x": null,
            "grid_auto_flow": null,
            "grid_area": null,
            "grid_template_columns": null,
            "flex": null,
            "_model_name": "LayoutModel",
            "justify_items": null,
            "grid_row": null,
            "max_height": null,
            "align_content": null,
            "visibility": null,
            "align_self": null,
            "height": null,
            "min_height": null,
            "padding": null,
            "grid_auto_rows": null,
            "grid_gap": null,
            "max_width": null,
            "order": null,
            "_view_module_version": "1.2.0",
            "grid_template_areas": null,
            "object_position": null,
            "object_fit": null,
            "grid_auto_columns": null,
            "margin": null,
            "display": null,
            "left": null
          }
        },
        "1914447c9e9048c780e5678239eb1f14": {
          "model_module": "@jupyter-widgets/controls",
          "model_name": "HBoxModel",
          "state": {
            "_view_name": "HBoxView",
            "_dom_classes": [],
            "_model_name": "HBoxModel",
            "_view_module": "@jupyter-widgets/controls",
            "_model_module_version": "1.5.0",
            "_view_count": null,
            "_view_module_version": "1.5.0",
            "box_style": "",
            "layout": "IPY_MODEL_bc567aec96ae4a54a901319b91845baf",
            "_model_module": "@jupyter-widgets/controls",
            "children": [
              "IPY_MODEL_dadcc0ab0f354408b1f4c12e21af97a1",
              "IPY_MODEL_1e12e60ed957442f8e0a2b529afe4755"
            ]
          }
        },
        "bc567aec96ae4a54a901319b91845baf": {
          "model_module": "@jupyter-widgets/base",
          "model_name": "LayoutModel",
          "state": {
            "_view_name": "LayoutView",
            "grid_template_rows": null,
            "right": null,
            "justify_content": null,
            "_view_module": "@jupyter-widgets/base",
            "overflow": null,
            "_model_module_version": "1.2.0",
            "_view_count": null,
            "flex_flow": null,
            "width": null,
            "min_width": null,
            "border": null,
            "align_items": null,
            "bottom": null,
            "_model_module": "@jupyter-widgets/base",
            "top": null,
            "grid_column": null,
            "overflow_y": null,
            "overflow_x": null,
            "grid_auto_flow": null,
            "grid_area": null,
            "grid_template_columns": null,
            "flex": null,
            "_model_name": "LayoutModel",
            "justify_items": null,
            "grid_row": null,
            "max_height": null,
            "align_content": null,
            "visibility": null,
            "align_self": null,
            "height": null,
            "min_height": null,
            "padding": null,
            "grid_auto_rows": null,
            "grid_gap": null,
            "max_width": null,
            "order": null,
            "_view_module_version": "1.2.0",
            "grid_template_areas": null,
            "object_position": null,
            "object_fit": null,
            "grid_auto_columns": null,
            "margin": null,
            "display": null,
            "left": null
          }
        },
        "dadcc0ab0f354408b1f4c12e21af97a1": {
          "model_module": "@jupyter-widgets/controls",
          "model_name": "IntProgressModel",
          "state": {
            "_view_name": "ProgressView",
            "style": "IPY_MODEL_3590a85c0f2e4060823b492c500900be",
            "_dom_classes": [],
            "description": "",
            "_model_name": "IntProgressModel",
            "bar_style": "success",
            "max": 231,
            "_view_module": "@jupyter-widgets/controls",
            "_model_module_version": "1.5.0",
            "value": 231,
            "_view_count": null,
            "_view_module_version": "1.5.0",
            "orientation": "horizontal",
            "min": 0,
            "description_tooltip": null,
            "_model_module": "@jupyter-widgets/controls",
            "layout": "IPY_MODEL_6cef3d7e89dd4dcd960e7602e8e7adfa"
          }
        },
        "1e12e60ed957442f8e0a2b529afe4755": {
          "model_module": "@jupyter-widgets/controls",
          "model_name": "HTMLModel",
          "state": {
            "_view_name": "HTMLView",
            "style": "IPY_MODEL_f2edb749e5fd42b1aa0a2ba4d175397f",
            "_dom_classes": [],
            "description": "",
            "_model_name": "HTMLModel",
            "placeholder": "​",
            "_view_module": "@jupyter-widgets/controls",
            "_model_module_version": "1.5.0",
            "value": "100% 231/231 [00:07&lt;00:00, 31.91it/s]",
            "_view_count": null,
            "_view_module_version": "1.5.0",
            "description_tooltip": null,
            "_model_module": "@jupyter-widgets/controls",
            "layout": "IPY_MODEL_ef502f5d54fd4548bc067c6478b5286f"
          }
        },
        "3590a85c0f2e4060823b492c500900be": {
          "model_module": "@jupyter-widgets/controls",
          "model_name": "ProgressStyleModel",
          "state": {
            "_view_name": "StyleView",
            "_model_name": "ProgressStyleModel",
            "description_width": "",
            "_view_module": "@jupyter-widgets/base",
            "_model_module_version": "1.5.0",
            "_view_count": null,
            "_view_module_version": "1.2.0",
            "bar_color": null,
            "_model_module": "@jupyter-widgets/controls"
          }
        },
        "6cef3d7e89dd4dcd960e7602e8e7adfa": {
          "model_module": "@jupyter-widgets/base",
          "model_name": "LayoutModel",
          "state": {
            "_view_name": "LayoutView",
            "grid_template_rows": null,
            "right": null,
            "justify_content": null,
            "_view_module": "@jupyter-widgets/base",
            "overflow": null,
            "_model_module_version": "1.2.0",
            "_view_count": null,
            "flex_flow": null,
            "width": null,
            "min_width": null,
            "border": null,
            "align_items": null,
            "bottom": null,
            "_model_module": "@jupyter-widgets/base",
            "top": null,
            "grid_column": null,
            "overflow_y": null,
            "overflow_x": null,
            "grid_auto_flow": null,
            "grid_area": null,
            "grid_template_columns": null,
            "flex": null,
            "_model_name": "LayoutModel",
            "justify_items": null,
            "grid_row": null,
            "max_height": null,
            "align_content": null,
            "visibility": null,
            "align_self": null,
            "height": null,
            "min_height": null,
            "padding": null,
            "grid_auto_rows": null,
            "grid_gap": null,
            "max_width": null,
            "order": null,
            "_view_module_version": "1.2.0",
            "grid_template_areas": null,
            "object_position": null,
            "object_fit": null,
            "grid_auto_columns": null,
            "margin": null,
            "display": null,
            "left": null
          }
        },
        "f2edb749e5fd42b1aa0a2ba4d175397f": {
          "model_module": "@jupyter-widgets/controls",
          "model_name": "DescriptionStyleModel",
          "state": {
            "_view_name": "StyleView",
            "_model_name": "DescriptionStyleModel",
            "description_width": "",
            "_view_module": "@jupyter-widgets/base",
            "_model_module_version": "1.5.0",
            "_view_count": null,
            "_view_module_version": "1.2.0",
            "_model_module": "@jupyter-widgets/controls"
          }
        },
        "ef502f5d54fd4548bc067c6478b5286f": {
          "model_module": "@jupyter-widgets/base",
          "model_name": "LayoutModel",
          "state": {
            "_view_name": "LayoutView",
            "grid_template_rows": null,
            "right": null,
            "justify_content": null,
            "_view_module": "@jupyter-widgets/base",
            "overflow": null,
            "_model_module_version": "1.2.0",
            "_view_count": null,
            "flex_flow": null,
            "width": null,
            "min_width": null,
            "border": null,
            "align_items": null,
            "bottom": null,
            "_model_module": "@jupyter-widgets/base",
            "top": null,
            "grid_column": null,
            "overflow_y": null,
            "overflow_x": null,
            "grid_auto_flow": null,
            "grid_area": null,
            "grid_template_columns": null,
            "flex": null,
            "_model_name": "LayoutModel",
            "justify_items": null,
            "grid_row": null,
            "max_height": null,
            "align_content": null,
            "visibility": null,
            "align_self": null,
            "height": null,
            "min_height": null,
            "padding": null,
            "grid_auto_rows": null,
            "grid_gap": null,
            "max_width": null,
            "order": null,
            "_view_module_version": "1.2.0",
            "grid_template_areas": null,
            "object_position": null,
            "object_fit": null,
            "grid_auto_columns": null,
            "margin": null,
            "display": null,
            "left": null
          }
        },
        "6ebba15fdc4a41898e9819a29dd53aca": {
          "model_module": "@jupyter-widgets/controls",
          "model_name": "HBoxModel",
          "state": {
            "_view_name": "HBoxView",
            "_dom_classes": [],
            "_model_name": "HBoxModel",
            "_view_module": "@jupyter-widgets/controls",
            "_model_module_version": "1.5.0",
            "_view_count": null,
            "_view_module_version": "1.5.0",
            "box_style": "",
            "layout": "IPY_MODEL_07b2f4a19d5348d9bfd3b10b9c3d64d2",
            "_model_module": "@jupyter-widgets/controls",
            "children": [
              "IPY_MODEL_b54ded8a35214bf3a91d2a230380a671",
              "IPY_MODEL_aa06e30f3c994aeb962c33c85e5a3300"
            ]
          }
        },
        "07b2f4a19d5348d9bfd3b10b9c3d64d2": {
          "model_module": "@jupyter-widgets/base",
          "model_name": "LayoutModel",
          "state": {
            "_view_name": "LayoutView",
            "grid_template_rows": null,
            "right": null,
            "justify_content": null,
            "_view_module": "@jupyter-widgets/base",
            "overflow": null,
            "_model_module_version": "1.2.0",
            "_view_count": null,
            "flex_flow": null,
            "width": null,
            "min_width": null,
            "border": null,
            "align_items": null,
            "bottom": null,
            "_model_module": "@jupyter-widgets/base",
            "top": null,
            "grid_column": null,
            "overflow_y": null,
            "overflow_x": null,
            "grid_auto_flow": null,
            "grid_area": null,
            "grid_template_columns": null,
            "flex": null,
            "_model_name": "LayoutModel",
            "justify_items": null,
            "grid_row": null,
            "max_height": null,
            "align_content": null,
            "visibility": null,
            "align_self": null,
            "height": null,
            "min_height": null,
            "padding": null,
            "grid_auto_rows": null,
            "grid_gap": null,
            "max_width": null,
            "order": null,
            "_view_module_version": "1.2.0",
            "grid_template_areas": null,
            "object_position": null,
            "object_fit": null,
            "grid_auto_columns": null,
            "margin": null,
            "display": null,
            "left": null
          }
        },
        "b54ded8a35214bf3a91d2a230380a671": {
          "model_module": "@jupyter-widgets/controls",
          "model_name": "IntProgressModel",
          "state": {
            "_view_name": "ProgressView",
            "style": "IPY_MODEL_553ea07315e94799957fdc45d2b31344",
            "_dom_classes": [],
            "description": "",
            "_model_name": "IntProgressModel",
            "bar_style": "success",
            "max": 258,
            "_view_module": "@jupyter-widgets/controls",
            "_model_module_version": "1.5.0",
            "value": 258,
            "_view_count": null,
            "_view_module_version": "1.5.0",
            "orientation": "horizontal",
            "min": 0,
            "description_tooltip": null,
            "_model_module": "@jupyter-widgets/controls",
            "layout": "IPY_MODEL_2ec72bdefd1a4f78a36fa0dd8358ab47"
          }
        },
        "aa06e30f3c994aeb962c33c85e5a3300": {
          "model_module": "@jupyter-widgets/controls",
          "model_name": "HTMLModel",
          "state": {
            "_view_name": "HTMLView",
            "style": "IPY_MODEL_9deea251d9cf4b258af9e8e901e55049",
            "_dom_classes": [],
            "description": "",
            "_model_name": "HTMLModel",
            "placeholder": "​",
            "_view_module": "@jupyter-widgets/controls",
            "_model_module_version": "1.5.0",
            "value": "100% 258/258 [00:08&lt;00:00, 32.05it/s]",
            "_view_count": null,
            "_view_module_version": "1.5.0",
            "description_tooltip": null,
            "_model_module": "@jupyter-widgets/controls",
            "layout": "IPY_MODEL_ca54b92c1fcb4f1fad1080cfa3e51721"
          }
        },
        "553ea07315e94799957fdc45d2b31344": {
          "model_module": "@jupyter-widgets/controls",
          "model_name": "ProgressStyleModel",
          "state": {
            "_view_name": "StyleView",
            "_model_name": "ProgressStyleModel",
            "description_width": "",
            "_view_module": "@jupyter-widgets/base",
            "_model_module_version": "1.5.0",
            "_view_count": null,
            "_view_module_version": "1.2.0",
            "bar_color": null,
            "_model_module": "@jupyter-widgets/controls"
          }
        },
        "2ec72bdefd1a4f78a36fa0dd8358ab47": {
          "model_module": "@jupyter-widgets/base",
          "model_name": "LayoutModel",
          "state": {
            "_view_name": "LayoutView",
            "grid_template_rows": null,
            "right": null,
            "justify_content": null,
            "_view_module": "@jupyter-widgets/base",
            "overflow": null,
            "_model_module_version": "1.2.0",
            "_view_count": null,
            "flex_flow": null,
            "width": null,
            "min_width": null,
            "border": null,
            "align_items": null,
            "bottom": null,
            "_model_module": "@jupyter-widgets/base",
            "top": null,
            "grid_column": null,
            "overflow_y": null,
            "overflow_x": null,
            "grid_auto_flow": null,
            "grid_area": null,
            "grid_template_columns": null,
            "flex": null,
            "_model_name": "LayoutModel",
            "justify_items": null,
            "grid_row": null,
            "max_height": null,
            "align_content": null,
            "visibility": null,
            "align_self": null,
            "height": null,
            "min_height": null,
            "padding": null,
            "grid_auto_rows": null,
            "grid_gap": null,
            "max_width": null,
            "order": null,
            "_view_module_version": "1.2.0",
            "grid_template_areas": null,
            "object_position": null,
            "object_fit": null,
            "grid_auto_columns": null,
            "margin": null,
            "display": null,
            "left": null
          }
        },
        "9deea251d9cf4b258af9e8e901e55049": {
          "model_module": "@jupyter-widgets/controls",
          "model_name": "DescriptionStyleModel",
          "state": {
            "_view_name": "StyleView",
            "_model_name": "DescriptionStyleModel",
            "description_width": "",
            "_view_module": "@jupyter-widgets/base",
            "_model_module_version": "1.5.0",
            "_view_count": null,
            "_view_module_version": "1.2.0",
            "_model_module": "@jupyter-widgets/controls"
          }
        },
        "ca54b92c1fcb4f1fad1080cfa3e51721": {
          "model_module": "@jupyter-widgets/base",
          "model_name": "LayoutModel",
          "state": {
            "_view_name": "LayoutView",
            "grid_template_rows": null,
            "right": null,
            "justify_content": null,
            "_view_module": "@jupyter-widgets/base",
            "overflow": null,
            "_model_module_version": "1.2.0",
            "_view_count": null,
            "flex_flow": null,
            "width": null,
            "min_width": null,
            "border": null,
            "align_items": null,
            "bottom": null,
            "_model_module": "@jupyter-widgets/base",
            "top": null,
            "grid_column": null,
            "overflow_y": null,
            "overflow_x": null,
            "grid_auto_flow": null,
            "grid_area": null,
            "grid_template_columns": null,
            "flex": null,
            "_model_name": "LayoutModel",
            "justify_items": null,
            "grid_row": null,
            "max_height": null,
            "align_content": null,
            "visibility": null,
            "align_self": null,
            "height": null,
            "min_height": null,
            "padding": null,
            "grid_auto_rows": null,
            "grid_gap": null,
            "max_width": null,
            "order": null,
            "_view_module_version": "1.2.0",
            "grid_template_areas": null,
            "object_position": null,
            "object_fit": null,
            "grid_auto_columns": null,
            "margin": null,
            "display": null,
            "left": null
          }
        }
      }
    }
  },
  "cells": [
    {
      "cell_type": "markdown",
      "metadata": {
        "id": "s802ynByvFUL",
        "colab_type": "text"
      },
      "source": [
        "# 1) Count-based trigram model with linear interpolation\n",
        "\n",
        "A count-based trigram model with linear-interpolation. That is an interpolation of three categorical distributions with $V$, $V^2$, and $V^3$ parameters: $$p(y_t | y_{1:t-1}) =  \\alpha_1 p(y_t | y_{t-2}, y_{t-1}) + \\alpha_2 p(y_t | y_{t-1}) + (1 - \\alpha_1 - \\alpha_2) p(y_t) $$\n",
        "Try out different values of $\\alpha$. "
      ]
    },
    {
      "cell_type": "code",
      "metadata": {
        "id": "O5dKJhxwvAm4",
        "colab_type": "code",
        "colab": {}
      },
      "source": [
        "!pip install -q torchtext \n",
        "\n",
        "import torch\n",
        "import torchtext\n",
        "from torchtext.vocab import Vectors\n",
        "from torchtext.data.iterator import BPTTIterator\n",
        "from torchtext.data import Batch, Dataset\n",
        "import math\n",
        "\n",
        "\n",
        "import numpy as np\n",
        "\n",
        "from tqdm import tqdm_notebook\n",
        "from collections import Counter, defaultdict"
      ],
      "execution_count": 0,
      "outputs": []
    },
    {
      "cell_type": "code",
      "metadata": {
        "id": "jNAyhqVbvPqA",
        "colab_type": "code",
        "outputId": "32ac8184-c497-4812-a738-3c2de99b0e27",
        "colab": {
          "base_uri": "https://localhost:8080/",
          "height": 272
        }
      },
      "source": [
        "# Our input $x$\n",
        "TEXT = torchtext.data.Field()\n",
        "\n",
        "!curl -qO https://raw.githubusercontent.com/harvard-ml-courses/cs287-s18/master/HW2/input.txt\n",
        "!curl -qO https://raw.githubusercontent.com/harvard-ml-courses/cs287-s18/master/HW2/train.5k.txt\n",
        "!curl -qO https://raw.githubusercontent.com/harvard-ml-courses/cs287-s18/master/HW2/train.txt\n",
        "!curl -qO https://raw.githubusercontent.com/harvard-ml-courses/cs287-s18/master/HW2/valid.txt\n",
        "!curl -qO https://raw.githubusercontent.com/wojzaremba/lstm/master/data/ptb.test.txt\n",
        "\n",
        "# Data distributed with the assignment\n",
        "train, val, test = torchtext.datasets.LanguageModelingDataset.splits(\n",
        "    path=\".\", \n",
        "    train=\"train.txt\", validation=\"valid.txt\", test=\"ptb.test.txt\", text_field=TEXT)\n",
        "\n",
        "train_iter, val_iter, test_iter = BPTTIterator.splits(\n",
        "    (train, val, test), batch_size=10, device=torch.device(\"cuda\"), bptt_len=32, repeat=False)"
      ],
      "execution_count": 2,
      "outputs": [
        {
          "output_type": "stream",
          "text": [
            "  % Total    % Received % Xferd  Average Speed   Time    Time     Time  Current\n",
            "                                 Dload  Upload   Total   Spent    Left  Speed\n",
            "100  185k  100  185k    0     0   605k      0 --:--:-- --:--:-- --:--:--  603k\n",
            "  % Total    % Received % Xferd  Average Speed   Time    Time     Time  Current\n",
            "                                 Dload  Upload   Total   Spent    Left  Speed\n",
            "100  595k  100  595k    0     0  1431k      0 --:--:-- --:--:-- --:--:-- 1431k\n",
            "  % Total    % Received % Xferd  Average Speed   Time    Time     Time  Current\n",
            "                                 Dload  Upload   Total   Spent    Left  Speed\n",
            "100 4982k  100 4982k    0     0  13.0M      0 --:--:-- --:--:-- --:--:-- 13.0M\n",
            "  % Total    % Received % Xferd  Average Speed   Time    Time     Time  Current\n",
            "                                 Dload  Upload   Total   Spent    Left  Speed\n",
            "100  390k  100  390k    0     0  1394k      0 --:--:-- --:--:-- --:--:-- 1394k\n",
            "  % Total    % Received % Xferd  Average Speed   Time    Time     Time  Current\n",
            "                                 Dload  Upload   Total   Spent    Left  Speed\n",
            "100  439k  100  439k    0     0  1970k      0 --:--:-- --:--:-- --:--:-- 1979k\n"
          ],
          "name": "stdout"
        }
      ]
    },
    {
      "cell_type": "code",
      "metadata": {
        "id": "Rxp1SSgGvF1y",
        "colab_type": "code",
        "colab": {}
      },
      "source": [
        "class TrigramLM:\n",
        "  def __init__(self, unk_tok):\n",
        "    print('Initializing trigram model...')\n",
        "    self.unigram_counts = defaultdict(lambda: 0)\n",
        "    self.bigram_counts = defaultdict(lambda: defaultdict(lambda: 0))\n",
        "    self.trigram_counts = defaultdict(lambda: defaultdict(lambda: 0))\n",
        "  \n",
        "  def train(self, train_iter):\n",
        "    for batch in tqdm_notebook(train_iter, position=0, leave=True):\n",
        "      _, batch_size = batch.text.shape\n",
        "      for i in range(batch_size):\n",
        "        sentence = batch.text[:,i]\n",
        "        for j, tok_tensor in enumerate(sentence.data):\n",
        "          tok_idx = tok_tensor.item()\n",
        "          self.unigram_counts[tok_idx] += 1\n",
        "          self.bigram_counts[sentence.data[j-1].item()][tok_idx] += 1\n",
        "          self.trigram_counts[(sentence.data[j-2].item(), sentence.data[j-1].item())][tok_idx] += 1"
      ],
      "execution_count": 0,
      "outputs": []
    },
    {
      "cell_type": "code",
      "metadata": {
        "id": "oEPrzZ6_vd86",
        "colab_type": "code",
        "outputId": "6f556738-2613-4723-961c-1d230c3d1882",
        "colab": {
          "base_uri": "https://localhost:8080/",
          "height": 34
        }
      },
      "source": [
        "TEXT.build_vocab(train) #for whole vocab\n",
        "# TEXT.build_vocab(train, max_size=1000) # for debugging\n",
        "unk_tok = TEXT.vocab.stoi[\"<unk>\"]\n",
        "\n",
        "model = TrigramLM(unk_tok)"
      ],
      "execution_count": 4,
      "outputs": [
        {
          "output_type": "stream",
          "text": [
            "Initializing trigram model...\n"
          ],
          "name": "stdout"
        }
      ]
    },
    {
      "cell_type": "code",
      "metadata": {
        "id": "YGJ3bPHPvhQV",
        "colab_type": "code",
        "outputId": "c1f27919-3d87-4d96-c8ea-c5d417a180b9",
        "colab": {
          "base_uri": "https://localhost:8080/",
          "height": 83,
          "referenced_widgets": [
            "98c58caa79f541308e22fbe11a37c55d",
            "2555b6b7c9814c9eb193546d92366a33",
            "53b0d85946944cc5819d8dd51eb54d20",
            "32e47295d0234c019fd0725ad4e06e2e",
            "d7d009cc13ec48a6bfbc2e7a51d353f8",
            "1b7d56bae6b34dbeb22d6c7861a5b1f1",
            "028b6e7fad344f5bacec6480121fd009",
            "03bfe6e8e0344861b1637032b301f81c"
          ]
        }
      },
      "source": [
        "print('Learning counts...')\n",
        "model.train(train_iter)"
      ],
      "execution_count": 5,
      "outputs": [
        {
          "output_type": "stream",
          "text": [
            "Learning counts...\n"
          ],
          "name": "stdout"
        },
        {
          "output_type": "display_data",
          "data": {
            "application/vnd.jupyter.widget-view+json": {
              "model_id": "98c58caa79f541308e22fbe11a37c55d",
              "version_minor": 0,
              "version_major": 2
            },
            "text/plain": [
              "HBox(children=(IntProgress(value=0, max=2905), HTML(value='')))"
            ]
          },
          "metadata": {
            "tags": []
          }
        },
        {
          "output_type": "stream",
          "text": [
            "\n"
          ],
          "name": "stdout"
        }
      ]
    },
    {
      "cell_type": "code",
      "metadata": {
        "id": "oux9pa1Yvh6g",
        "colab_type": "code",
        "colab": {}
      },
      "source": [
        "def generate_probs(model, unk_tok):\n",
        "  print('Recalculating qML for unigrams, bigrams, trigrams')\n",
        "\n",
        "  print('\\tCalculating unigram probabilities...')\n",
        "  model.unigram_probs = dict()\n",
        "  # if unk_tok not in model.unigram_counts: #unk tok has to have been seen at least once\n",
        "  #   model.unigram_counts[unk_tok] = 1\n",
        "  for k, v in model.unigram_counts.items():\n",
        "    model.unigram_probs[k] = float(v / sum(model.unigram_counts.values()))\n",
        "\n",
        "  print('\\tCalculating bigram probabilities...')\n",
        "  model.bigram_probs = dict()\n",
        "  for unigram, bigram_counter in tqdm_notebook(model.bigram_counts.items(), position=0, leave=True):\n",
        "    model.bigram_probs[unigram] = dict()\n",
        "    # if unk_tok not in bigram_counter: #every bigram has to have seen the unknown token at least once\n",
        "    #   bigram_counter[unk_tok] = 1\n",
        "    for tok, count in bigram_counter.items():\n",
        "      model.bigram_probs[unigram][tok] = float(count / (model.unigram_counts[unigram]))\n",
        "        \n",
        "  print('\\tCalculating trigram probabilities...')\n",
        "  model.trigram_probs = dict()\n",
        "  for bigram, trigram_counter in tqdm_notebook(model.trigram_counts.items(), position=0, leave=True):\n",
        "    model.trigram_probs[bigram] = dict()\n",
        "    # if unk_tok not in trigram_counter: #every trigram has to have seen the unknown token at least once\n",
        "    #   trigram_counter[unk_tok] = 1\n",
        "    for tok, count in trigram_counter.items():\n",
        "      model.trigram_probs[bigram][tok] = float(count / (model.bigram_counts[bigram[0]][bigram[1]]))\n",
        "  \n",
        "  return model"
      ],
      "execution_count": 0,
      "outputs": []
    },
    {
      "cell_type": "code",
      "metadata": {
        "id": "AI6jiMXBvjzi",
        "colab_type": "code",
        "outputId": "690f1eca-6bc5-48aa-e242-cdcc07caadf4",
        "colab": {
          "base_uri": "https://localhost:8080/",
          "height": 183,
          "referenced_widgets": [
            "bac623d955734e0ab4aae77d4d0f144f",
            "ca4094f377594b67b7bd9264d7a8e9ca",
            "835f1621dc36489ebbb048c0d9288337",
            "983b7a200fef49ee87e532329d8fc661",
            "1a81ebb518cf4be09f23dd02f26103d7",
            "b1640f3d8bdd485e904afbd3df5e709a",
            "1d800fd0041248ada1d7011e99649b0b",
            "ec2c661964e84385b177989d2eeb5a76",
            "37301660c2e242c997f4aa8c8bd2234b",
            "4cef533b7f7f45a198ed18a2ccc9cd04",
            "8b965d53e028457d8846b5882b4c7d9c",
            "c12b1b6a177f4284850551f36de21c6a",
            "2c93592ddd3349f0909ace9ba9679b18",
            "469ee912ed9049ca8928758b351de1b7",
            "0d3b729c3983403991ddbaec5072f6c6",
            "b19e7490f519491882e7b2fc16f15a13"
          ]
        }
      },
      "source": [
        "model = generate_probs(model, unk_tok)"
      ],
      "execution_count": 7,
      "outputs": [
        {
          "output_type": "stream",
          "text": [
            "Recalculating qML for unigrams, bigrams, trigrams\n",
            "\tCalculating unigram probabilities...\n",
            "\tCalculating bigram probabilities...\n"
          ],
          "name": "stdout"
        },
        {
          "output_type": "display_data",
          "data": {
            "application/vnd.jupyter.widget-view+json": {
              "model_id": "bac623d955734e0ab4aae77d4d0f144f",
              "version_minor": 0,
              "version_major": 2
            },
            "text/plain": [
              "HBox(children=(IntProgress(value=0, max=10000), HTML(value='')))"
            ]
          },
          "metadata": {
            "tags": []
          }
        },
        {
          "output_type": "stream",
          "text": [
            "\n",
            "\tCalculating trigram probabilities...\n"
          ],
          "name": "stdout"
        },
        {
          "output_type": "display_data",
          "data": {
            "application/vnd.jupyter.widget-view+json": {
              "model_id": "37301660c2e242c997f4aa8c8bd2234b",
              "version_minor": 0,
              "version_major": 2
            },
            "text/plain": [
              "HBox(children=(IntProgress(value=0, max=274435), HTML(value='')))"
            ]
          },
          "metadata": {
            "tags": []
          }
        },
        {
          "output_type": "stream",
          "text": [
            "\n"
          ],
          "name": "stdout"
        }
      ]
    },
    {
      "cell_type": "code",
      "metadata": {
        "id": "JVtnSwULvlqT",
        "colab_type": "code",
        "outputId": "90f43713-4819-45aa-f798-640f484f8cce",
        "colab": {
          "base_uri": "https://localhost:8080/",
          "height": 85
        }
      },
      "source": [
        "# Check our counts and probs\n",
        "\n",
        "print('c(): {}'.format(sum(model.unigram_counts.values())))\n",
        "print('c(0): {}'.format(model.unigram_counts[0]))\n",
        "print('c(0|0): {}'.format(model.bigram_counts[0][0]))\n",
        "print('c(0|0,0): {}'.format(model.trigram_counts[(0,0)][0]))\n",
        "\n",
        "assert model.unigram_probs[0] == float(model.unigram_counts[0] / np.sum([x for x in model.unigram_counts.values()]))\n",
        "assert model.bigram_probs[0][0] == float(model.bigram_counts[0][0] / model.unigram_counts[0])\n",
        "assert model.trigram_probs[(0,0)][0] == float(model.trigram_counts[(0,0)][0] / model.bigram_counts[0][0])\n",
        "assert model.trigram_probs[(2,4)][2] == float(model.trigram_counts[(2,4)][2] / model.bigram_counts[2][4])\n",
        "assert sum([model.trigram_counts[(2,4)][tok] for tok in model.trigram_counts[(2,4)]]) == model.bigram_counts[2][4]\n",
        "assert model.unigram_counts[0] == sum(model.bigram_counts[0].values())"
      ],
      "execution_count": 8,
      "outputs": [
        {
          "output_type": "stream",
          "text": [
            "c(): 929580\n",
            "c(0): 45020\n",
            "c(0|0): 3981\n",
            "c(0|0,0): 454\n"
          ],
          "name": "stdout"
        }
      ]
    },
    {
      "cell_type": "code",
      "metadata": {
        "id": "Mt8POscUvnKC",
        "colab_type": "code",
        "colab": {}
      },
      "source": [
        "def get_pp(X_iter, model, a_1, a_2, oov, unk_tok):\n",
        "  print('Getting perplexity...')\n",
        "  # Build p_x as arr of probs across the entire iter\n",
        "  p_x = list()\n",
        "  for batch in tqdm_notebook(X_iter, position=0, leave=True):\n",
        "    _, batch_size = batch.text.shape \n",
        "    for i in range(batch_size):\n",
        "      sentence = batch.text[:,i]\n",
        "      for j, tok_tensor in enumerate(sentence.data):\n",
        "        p_x_j = 0.\n",
        "        try:\n",
        "          # Assemble prob of this trigram.\n",
        "          # Note unk handling defaults to 0.\n",
        "\n",
        "          # Start with unigram\n",
        "          tok_idx = tok_tensor.item()\n",
        "          if tok_idx not in model.unigram_probs:\n",
        "            unigram_prob = 0.\n",
        "          else:\n",
        "            unigram_prob = model.unigram_probs[tok_idx]\n",
        "          p_x_j += (1 - a_1 - a_2) * unigram_prob\n",
        "\n",
        "          # Then if there's an eligible bigram, add it\n",
        "          if j > 0:\n",
        "            tok_idx = tok_tensor.item()\n",
        "            unigram_tok = sentence.data[j-1].item()\n",
        "            # Attempt unk_tok replacements\n",
        "            if unigram_tok not in model.bigram_probs:\n",
        "              #model hasn't seen j-1 before; default to (<unk>, j)\n",
        "              unigram_tok = unk_tok\n",
        "            if tok_idx not in model.bigram_probs[unigram_tok]:\n",
        "              #j hasn't come after j-1 before; default to (j-1/<unk>, <unk>)\n",
        "              tok_idx = unk_tok\n",
        "            # Then attempt constructing the bigram probability\n",
        "            if tok_idx not in model.bigram_probs[unigram_tok]:\n",
        "              bigram_prob = 0.\n",
        "            else:\n",
        "              bigram_prob = model.bigram_probs[unigram_tok][tok_idx]\n",
        "            p_x_j += (a_2) * bigram_prob\n",
        "\n",
        "          # Then if there's an eligible trigram, add it\n",
        "          if j > 1:\n",
        "            tok_idx = tok_tensor.item()\n",
        "            bigram_tup = (sentence.data[j-2].item(), sentence.data[j-1].item())\n",
        "            # Attempt unk_tok replacements\n",
        "            while bigram_tup not in model.trigram_probs and bigram_tup != (unk_tok, unk_tok):\n",
        "              # model hasn't seen (j-2, j-1) before\n",
        "              # replace one and then the other\n",
        "              for i in range(2):\n",
        "                new_bigram_tup = list(bigram_tup)\n",
        "                new_bigram_tup[i] = unk_tok\n",
        "                bigram_tup = tuple(new_bigram_tup)\n",
        "            if tok_idx not in model.trigram_probs[bigram_tup]:\n",
        "              # j hasn't come after (j-2, j-1) before\n",
        "              tok_idx = unk_tok\n",
        "            # Then attempt constructing the trigram probability\n",
        "            if tok_idx not in model.trigram_probs[bigram_tup]:\n",
        "              trigram_prob = 0.\n",
        "            else:\n",
        "              trigram_prob = model.trigram_probs[bigram_tup][tok_idx]\n",
        "            p_x_j += a_1 * trigram_prob\n",
        "\n",
        "        except:\n",
        "          print('tok_idx: ', tok_idx)\n",
        "          if unigram_tok:\n",
        "            print('unigram_tok', unigram_tok)\n",
        "          if bigram_tup:\n",
        "            print('bigram_tup: ', bigram_tup)\n",
        "          raise\n",
        "        p_x.append(p_x_j)\n",
        "  # Convert p_x to perplexity\n",
        "  pp = np.exp(np.mean(-np.log(p_x)))\n",
        "  return pp, p_x"
      ],
      "execution_count": 0,
      "outputs": []
    },
    {
      "cell_type": "code",
      "metadata": {
        "id": "etSL324DvqCd",
        "colab_type": "code",
        "colab": {}
      },
      "source": [
        "a_1 = 0.7\n",
        "a_2 = 0.1\n",
        "oov = 1e-10\n",
        "unk_tok = TEXT.vocab.stoi[\"<unk>\"]"
      ],
      "execution_count": 0,
      "outputs": []
    },
    {
      "cell_type": "code",
      "metadata": {
        "id": "tc1utRjgvqgc",
        "colab_type": "code",
        "outputId": "23be96e4-7298-40ca-f568-f0c1005010c5",
        "colab": {
          "base_uri": "https://localhost:8080/",
          "height": 154,
          "referenced_widgets": [
            "90c1bbf613f248c09eb7094486b0ec36",
            "163df0ad7dbf4d1fb65c3fb1cffc9817",
            "b9451705966342729b8edce435992a3b",
            "7de39e5a38fd41a38c59eb97afd26618",
            "5c3323614e644b049956ebd830b80d82",
            "b9a21b651be749bc9485b081492f396c",
            "cfa525f5bced4d1bb83fa1b173dd7e38",
            "c13ee479c40243ada824d92beccc6ffa"
          ]
        }
      },
      "source": [
        "train_perplexity, train_p_x = get_pp(train_iter, model, a_1, a_2, oov, unk_tok)\n",
        "print('\\ntrain perplexity: ', train_perplexity)"
      ],
      "execution_count": 0,
      "outputs": [
        {
          "output_type": "stream",
          "text": [
            "Getting perplexity...\n"
          ],
          "name": "stdout"
        },
        {
          "output_type": "display_data",
          "data": {
            "application/vnd.jupyter.widget-view+json": {
              "model_id": "90c1bbf613f248c09eb7094486b0ec36",
              "version_minor": 0,
              "version_major": 2
            },
            "text/plain": [
              "HBox(children=(IntProgress(value=0, max=2905), HTML(value='')))"
            ]
          },
          "metadata": {
            "tags": []
          }
        },
        {
          "output_type": "stream",
          "text": [
            "\n",
            "\n",
            "train perplexity:  inf\n"
          ],
          "name": "stdout"
        },
        {
          "output_type": "stream",
          "text": [
            "/usr/local/lib/python3.6/dist-packages/ipykernel_launcher.py:72: RuntimeWarning: divide by zero encountered in log\n"
          ],
          "name": "stderr"
        }
      ]
    },
    {
      "cell_type": "code",
      "metadata": {
        "id": "ij1gbUOmvr5X",
        "colab_type": "code",
        "outputId": "f3649920-b99b-4667-893c-ffe1a03311ad",
        "colab": {
          "base_uri": "https://localhost:8080/",
          "height": 154,
          "referenced_widgets": [
            "1914447c9e9048c780e5678239eb1f14",
            "bc567aec96ae4a54a901319b91845baf",
            "dadcc0ab0f354408b1f4c12e21af97a1",
            "1e12e60ed957442f8e0a2b529afe4755",
            "3590a85c0f2e4060823b492c500900be",
            "6cef3d7e89dd4dcd960e7602e8e7adfa",
            "f2edb749e5fd42b1aa0a2ba4d175397f",
            "ef502f5d54fd4548bc067c6478b5286f"
          ]
        }
      },
      "source": [
        "val_perplexity, val_p_x = get_pp(val_iter, model, a_1, a_2, oov, unk_tok)\n",
        "print('\\nval perplexity: ', val_perplexity)"
      ],
      "execution_count": 0,
      "outputs": [
        {
          "output_type": "stream",
          "text": [
            "Getting perplexity...\n"
          ],
          "name": "stdout"
        },
        {
          "output_type": "display_data",
          "data": {
            "application/vnd.jupyter.widget-view+json": {
              "model_id": "1914447c9e9048c780e5678239eb1f14",
              "version_minor": 0,
              "version_major": 2
            },
            "text/plain": [
              "HBox(children=(IntProgress(value=0, max=231), HTML(value='')))"
            ]
          },
          "metadata": {
            "tags": []
          }
        },
        {
          "output_type": "stream",
          "text": [
            "\n",
            "\n",
            "val perplexity:  inf\n"
          ],
          "name": "stdout"
        },
        {
          "output_type": "stream",
          "text": [
            "/usr/local/lib/python3.6/dist-packages/ipykernel_launcher.py:72: RuntimeWarning: divide by zero encountered in log\n"
          ],
          "name": "stderr"
        }
      ]
    },
    {
      "cell_type": "code",
      "metadata": {
        "id": "DUpL5-xjvt3V",
        "colab_type": "code",
        "outputId": "36ded4f9-2e2c-41d0-8ece-4759f9b2890c",
        "colab": {
          "base_uri": "https://localhost:8080/",
          "height": 154,
          "referenced_widgets": [
            "6ebba15fdc4a41898e9819a29dd53aca",
            "07b2f4a19d5348d9bfd3b10b9c3d64d2",
            "b54ded8a35214bf3a91d2a230380a671",
            "aa06e30f3c994aeb962c33c85e5a3300",
            "553ea07315e94799957fdc45d2b31344",
            "2ec72bdefd1a4f78a36fa0dd8358ab47",
            "9deea251d9cf4b258af9e8e901e55049",
            "ca54b92c1fcb4f1fad1080cfa3e51721"
          ]
        }
      },
      "source": [
        "test_perplexity, test_p_x = get_pp(test_iter, model, a_1, a_2, oov, unk_tok)\n",
        "print('\\ntest perplexity: ', test_perplexity)"
      ],
      "execution_count": 0,
      "outputs": [
        {
          "output_type": "stream",
          "text": [
            "Getting perplexity...\n"
          ],
          "name": "stdout"
        },
        {
          "output_type": "display_data",
          "data": {
            "application/vnd.jupyter.widget-view+json": {
              "model_id": "6ebba15fdc4a41898e9819a29dd53aca",
              "version_minor": 0,
              "version_major": 2
            },
            "text/plain": [
              "HBox(children=(IntProgress(value=0, max=258), HTML(value='')))"
            ]
          },
          "metadata": {
            "tags": []
          }
        },
        {
          "output_type": "stream",
          "text": [
            "\n",
            "\n",
            "test perplexity:  inf\n"
          ],
          "name": "stdout"
        },
        {
          "output_type": "stream",
          "text": [
            "/usr/local/lib/python3.6/dist-packages/ipykernel_launcher.py:72: RuntimeWarning: divide by zero encountered in log\n"
          ],
          "name": "stderr"
        }
      ]
    },
    {
      "cell_type": "code",
      "metadata": {
        "id": "6olqdaiw2Qri",
        "colab_type": "code",
        "colab": {}
      },
      "source": [
        "def get_H(batch, model, a_1, a_2, unk_tok):\n",
        "  print('Getting perplexity...')\n",
        "  # Build p_x as arr of probs across the entire iter\n",
        "  p_x = list()\n",
        "  _, batch_size = batch.text.shape \n",
        "  for i in range(batch_size):\n",
        "    sentence = batch.text[:,i]\n",
        "    for j, tok_tensor in enumerate(sentence.data):\n",
        "      p_x_j = 0.\n",
        "      try:\n",
        "        # Assemble prob of this trigram.\n",
        "        # Note unk handling defaults to 0.\n",
        "\n",
        "        # Start with unigram\n",
        "        tok_idx = tok_tensor.item()\n",
        "        if tok_idx not in model.unigram_probs:\n",
        "          unigram_prob = 0.\n",
        "        else:\n",
        "          unigram_prob = model.unigram_probs[tok_idx]\n",
        "        p_x_j += (1 - a_1 - a_2) * unigram_prob\n",
        "\n",
        "        # Then if there's an eligible bigram, add it\n",
        "        if j > 0:\n",
        "          tok_idx = tok_tensor.item()\n",
        "          unigram_tok = sentence.data[j-1].item()\n",
        "          # Attempt unk_tok replacements\n",
        "          if unigram_tok not in model.bigram_probs:\n",
        "            #model hasn't seen j-1 before; default to (<unk>, j)\n",
        "            unigram_tok = unk_tok\n",
        "          if tok_idx not in model.bigram_probs[unigram_tok]:\n",
        "            #j hasn't come after j-1 before; default to (j-1/<unk>, <unk>)\n",
        "            tok_idx = unk_tok\n",
        "          # Then attempt constructing the bigram probability\n",
        "          if tok_idx not in model.bigram_probs[unigram_tok]:\n",
        "            bigram_prob = 0.\n",
        "          else:\n",
        "            bigram_prob = model.bigram_probs[unigram_tok][tok_idx]\n",
        "          p_x_j += (a_2) * bigram_prob\n",
        "\n",
        "        # Then if there's an eligible trigram, add it\n",
        "        if j > 1:\n",
        "          tok_idx = tok_tensor.item()\n",
        "          bigram_tup = (sentence.data[j-2].item(), sentence.data[j-1].item())\n",
        "          # Attempt unk_tok replacements\n",
        "          while bigram_tup not in model.trigram_probs and bigram_tup != (unk_tok, unk_tok):\n",
        "            # model hasn't seen (j-2, j-1) before\n",
        "            # replace one and then the other\n",
        "            for i in range(2):\n",
        "              new_bigram_tup = list(bigram_tup)\n",
        "              new_bigram_tup[i] = unk_tok\n",
        "              bigram_tup = tuple(new_bigram_tup)\n",
        "          if tok_idx not in model.trigram_probs[bigram_tup]:\n",
        "            # j hasn't come after (j-2, j-1) before\n",
        "            tok_idx = unk_tok\n",
        "          # Then attempt constructing the trigram probability\n",
        "          if tok_idx not in model.trigram_probs[bigram_tup]:\n",
        "            trigram_prob = 0.\n",
        "          else:\n",
        "            trigram_prob = model.trigram_probs[bigram_tup][tok_idx]\n",
        "          p_x_j += a_1 * trigram_prob\n",
        "\n",
        "      except:\n",
        "        print('tok_idx: ', tok_idx)\n",
        "        if unigram_tok:\n",
        "          print('unigram_tok', unigram_tok)\n",
        "        if bigram_tup:\n",
        "          print('bigram_tup: ', bigram_tup)\n",
        "        raise\n",
        "      p_x.append(p_x_j)\n",
        "  # Convert p_x to entropy\n",
        "  H = np.mean(-np.log(p_x))\n",
        "  return H, p_x"
      ],
      "execution_count": 0,
      "outputs": []
    },
    {
      "cell_type": "code",
      "metadata": {
        "id": "DrdgII4f6hbU",
        "colab_type": "code",
        "colab": {}
      },
      "source": [
        "examples = list()\n",
        "for i, batch in enumerate(train_iter):\n",
        "  if i in [1, 7]:\n",
        "    examples.append(batch)\n",
        "for i, batch in enumerate(test_iter):\n",
        "  if i in [117, 231]:\n",
        "    examples.append(batch)"
      ],
      "execution_count": 0,
      "outputs": []
    },
    {
      "cell_type": "code",
      "metadata": {
        "id": "-KY8cBL06ivZ",
        "colab_type": "code",
        "colab": {
          "base_uri": "https://localhost:8080/",
          "height": 102
        },
        "outputId": "b6964e73-3e96-4e7c-86c9-56980b50f81f"
      },
      "source": [
        "entropies = list()\n",
        "for context in examples:\n",
        "  H, _ = get_H(context, model, a_1, a_2, unk_tok)\n",
        "  entropies.append(H)\n",
        "entropies"
      ],
      "execution_count": 35,
      "outputs": [
        {
          "output_type": "stream",
          "text": [
            "Getting perplexity...\n",
            "Getting perplexity...\n",
            "Getting perplexity...\n",
            "Getting perplexity...\n"
          ],
          "name": "stdout"
        },
        {
          "output_type": "execute_result",
          "data": {
            "text/plain": [
              "[2.503588542981169, 2.5349433733878053, 3.9920512375003185, 3.857189940545878]"
            ]
          },
          "metadata": {
            "tags": []
          },
          "execution_count": 35
        }
      ]
    },
    {
      "cell_type": "code",
      "metadata": {
        "id": "vrTharOV7xMQ",
        "colab_type": "code",
        "colab": {}
      },
      "source": [
        ""
      ],
      "execution_count": 0,
      "outputs": []
    }
  ]
}